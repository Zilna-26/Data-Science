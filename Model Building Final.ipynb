{
  "nbformat": 4,
  "nbformat_minor": 0,
  "metadata": {
    "colab": {
      "provenance": []
    },
    "kernelspec": {
      "name": "python3",
      "display_name": "Python 3"
    },
    "language_info": {
      "name": "python"
    }
  },
  "cells": [
    {
      "cell_type": "markdown",
      "source": [
        "The Supply Chain Shipment Pricing Dataset contains data related to logistics and shipment pricing, helping analyze factors that influence shipping costs. It includes key attributes such as shipment mode, origin and destination locations, weight, cost, and other logistical details. This dataset is valuable for understanding pricing trends, optimizing supply chain management, and improving cost efficiency. It can be used for regression analysis, predictive modeling, and business intelligence to enhance decision-making in logistics and transportation."
      ],
      "metadata": {
        "id": "FYkzU_P-Z7lk"
      }
    },
    {
      "cell_type": "markdown",
      "source": [
        "Import necessary libraries"
      ],
      "metadata": {
        "id": "m43vtsPfGJ2A"
      }
    },
    {
      "cell_type": "code",
      "execution_count": 124,
      "metadata": {
        "id": "2wD0HhDbm4Pe"
      },
      "outputs": [],
      "source": [
        "import pandas as pd\n",
        "import numpy as np\n",
        "import matplotlib.pyplot as plt\n",
        "import seaborn as sns\n",
        "from sklearn.preprocessing import LabelEncoder\n",
        "from sklearn.model_selection import train_test_split\n",
        "from sklearn.preprocessing import StandardScaler\n",
        "from sklearn.linear_model import LinearRegression\n",
        "from sklearn.ensemble import RandomForestRegressor\n",
        "from sklearn.svm import SVR\n",
        "from sklearn.neighbors import KNeighborsRegressor\n",
        "from sklearn.model_selection import GridSearchCV\n",
        "from sklearn.metrics import r2_score"
      ]
    },
    {
      "cell_type": "markdown",
      "source": [
        "Import dataset"
      ],
      "metadata": {
        "id": "nKDKo9DwGQgE"
      }
    },
    {
      "cell_type": "code",
      "source": [
        "df=pd.read_csv(\"Data.csv\")"
      ],
      "metadata": {
        "id": "HSu3QzYqsZM0"
      },
      "execution_count": 2,
      "outputs": []
    },
    {
      "cell_type": "markdown",
      "source": [
        "Basic data understanding"
      ],
      "metadata": {
        "id": "aC9I2s6MGTeh"
      }
    },
    {
      "cell_type": "code",
      "source": [
        "df.head()"
      ],
      "metadata": {
        "colab": {
          "base_uri": "https://localhost:8080/",
          "height": 429
        },
        "id": "u1YtyHM_slwz",
        "outputId": "3d944d77-1522-4023-b572-16e5ceb9b86a"
      },
      "execution_count": 3,
      "outputs": [
        {
          "output_type": "execute_result",
          "data": {
            "text/plain": [
              "   id project code            pq # po / so # asn/dn #        country  \\\n",
              "0   1   100-CI-T01  Pre-PQ Process    SCMS-4    ASN-8  Côte d'Ivoire   \n",
              "1   3   108-VN-T01  Pre-PQ Process   SCMS-13   ASN-85        Vietnam   \n",
              "2   4   100-CI-T01  Pre-PQ Process   SCMS-20   ASN-14  Côte d'Ivoire   \n",
              "3  15   108-VN-T01  Pre-PQ Process   SCMS-78   ASN-50        Vietnam   \n",
              "4  16   108-VN-T01  Pre-PQ Process   SCMS-81   ASN-55        Vietnam   \n",
              "\n",
              "  managed by  fulfill via vendor inco term shipment mode  ...  \\\n",
              "0   PMO - US  Direct Drop              EXW           Air  ...   \n",
              "1   PMO - US  Direct Drop              EXW           Air  ...   \n",
              "2   PMO - US  Direct Drop              FCA           Air  ...   \n",
              "3   PMO - US  Direct Drop              EXW           Air  ...   \n",
              "4   PMO - US  Direct Drop              EXW           Air  ...   \n",
              "\n",
              "  unit of measure (per pack) line item quantity line item value pack price  \\\n",
              "0                         30                 19           551.0      29.00   \n",
              "1                        240               1000          6200.0       6.20   \n",
              "2                        100                500         40000.0      80.00   \n",
              "3                         60              31920        127360.8       3.99   \n",
              "4                         60              38000        121600.0       3.20   \n",
              "\n",
              "  unit price             manufacturing site first line designation  \\\n",
              "0       0.97     Ranbaxy Fine Chemicals LTD                   True   \n",
              "1       0.03      Aurobindo Unit III, India                   True   \n",
              "2       0.80  ABBVIE GmbH & Co.KG Wiesbaden                   True   \n",
              "3       0.07  Ranbaxy, Paonta Shahib, India                   True   \n",
              "4       0.05      Aurobindo Unit III, India                   True   \n",
              "\n",
              "  weight (kilograms) freight cost (usd) line item insurance (usd)  \n",
              "0                 13             780.34                       NaN  \n",
              "1                358             4521.5                       NaN  \n",
              "2                171            1653.78                       NaN  \n",
              "3               1855           16007.06                       NaN  \n",
              "4               7590           45450.08                       NaN  \n",
              "\n",
              "[5 rows x 33 columns]"
            ],
            "text/html": [
              "\n",
              "  <div id=\"df-65350afa-a41e-476f-b72e-fb95de46d5ef\" class=\"colab-df-container\">\n",
              "    <div>\n",
              "<style scoped>\n",
              "    .dataframe tbody tr th:only-of-type {\n",
              "        vertical-align: middle;\n",
              "    }\n",
              "\n",
              "    .dataframe tbody tr th {\n",
              "        vertical-align: top;\n",
              "    }\n",
              "\n",
              "    .dataframe thead th {\n",
              "        text-align: right;\n",
              "    }\n",
              "</style>\n",
              "<table border=\"1\" class=\"dataframe\">\n",
              "  <thead>\n",
              "    <tr style=\"text-align: right;\">\n",
              "      <th></th>\n",
              "      <th>id</th>\n",
              "      <th>project code</th>\n",
              "      <th>pq #</th>\n",
              "      <th>po / so #</th>\n",
              "      <th>asn/dn #</th>\n",
              "      <th>country</th>\n",
              "      <th>managed by</th>\n",
              "      <th>fulfill via</th>\n",
              "      <th>vendor inco term</th>\n",
              "      <th>shipment mode</th>\n",
              "      <th>...</th>\n",
              "      <th>unit of measure (per pack)</th>\n",
              "      <th>line item quantity</th>\n",
              "      <th>line item value</th>\n",
              "      <th>pack price</th>\n",
              "      <th>unit price</th>\n",
              "      <th>manufacturing site</th>\n",
              "      <th>first line designation</th>\n",
              "      <th>weight (kilograms)</th>\n",
              "      <th>freight cost (usd)</th>\n",
              "      <th>line item insurance (usd)</th>\n",
              "    </tr>\n",
              "  </thead>\n",
              "  <tbody>\n",
              "    <tr>\n",
              "      <th>0</th>\n",
              "      <td>1</td>\n",
              "      <td>100-CI-T01</td>\n",
              "      <td>Pre-PQ Process</td>\n",
              "      <td>SCMS-4</td>\n",
              "      <td>ASN-8</td>\n",
              "      <td>Côte d'Ivoire</td>\n",
              "      <td>PMO - US</td>\n",
              "      <td>Direct Drop</td>\n",
              "      <td>EXW</td>\n",
              "      <td>Air</td>\n",
              "      <td>...</td>\n",
              "      <td>30</td>\n",
              "      <td>19</td>\n",
              "      <td>551.0</td>\n",
              "      <td>29.00</td>\n",
              "      <td>0.97</td>\n",
              "      <td>Ranbaxy Fine Chemicals LTD</td>\n",
              "      <td>True</td>\n",
              "      <td>13</td>\n",
              "      <td>780.34</td>\n",
              "      <td>NaN</td>\n",
              "    </tr>\n",
              "    <tr>\n",
              "      <th>1</th>\n",
              "      <td>3</td>\n",
              "      <td>108-VN-T01</td>\n",
              "      <td>Pre-PQ Process</td>\n",
              "      <td>SCMS-13</td>\n",
              "      <td>ASN-85</td>\n",
              "      <td>Vietnam</td>\n",
              "      <td>PMO - US</td>\n",
              "      <td>Direct Drop</td>\n",
              "      <td>EXW</td>\n",
              "      <td>Air</td>\n",
              "      <td>...</td>\n",
              "      <td>240</td>\n",
              "      <td>1000</td>\n",
              "      <td>6200.0</td>\n",
              "      <td>6.20</td>\n",
              "      <td>0.03</td>\n",
              "      <td>Aurobindo Unit III, India</td>\n",
              "      <td>True</td>\n",
              "      <td>358</td>\n",
              "      <td>4521.5</td>\n",
              "      <td>NaN</td>\n",
              "    </tr>\n",
              "    <tr>\n",
              "      <th>2</th>\n",
              "      <td>4</td>\n",
              "      <td>100-CI-T01</td>\n",
              "      <td>Pre-PQ Process</td>\n",
              "      <td>SCMS-20</td>\n",
              "      <td>ASN-14</td>\n",
              "      <td>Côte d'Ivoire</td>\n",
              "      <td>PMO - US</td>\n",
              "      <td>Direct Drop</td>\n",
              "      <td>FCA</td>\n",
              "      <td>Air</td>\n",
              "      <td>...</td>\n",
              "      <td>100</td>\n",
              "      <td>500</td>\n",
              "      <td>40000.0</td>\n",
              "      <td>80.00</td>\n",
              "      <td>0.80</td>\n",
              "      <td>ABBVIE GmbH &amp; Co.KG Wiesbaden</td>\n",
              "      <td>True</td>\n",
              "      <td>171</td>\n",
              "      <td>1653.78</td>\n",
              "      <td>NaN</td>\n",
              "    </tr>\n",
              "    <tr>\n",
              "      <th>3</th>\n",
              "      <td>15</td>\n",
              "      <td>108-VN-T01</td>\n",
              "      <td>Pre-PQ Process</td>\n",
              "      <td>SCMS-78</td>\n",
              "      <td>ASN-50</td>\n",
              "      <td>Vietnam</td>\n",
              "      <td>PMO - US</td>\n",
              "      <td>Direct Drop</td>\n",
              "      <td>EXW</td>\n",
              "      <td>Air</td>\n",
              "      <td>...</td>\n",
              "      <td>60</td>\n",
              "      <td>31920</td>\n",
              "      <td>127360.8</td>\n",
              "      <td>3.99</td>\n",
              "      <td>0.07</td>\n",
              "      <td>Ranbaxy, Paonta Shahib, India</td>\n",
              "      <td>True</td>\n",
              "      <td>1855</td>\n",
              "      <td>16007.06</td>\n",
              "      <td>NaN</td>\n",
              "    </tr>\n",
              "    <tr>\n",
              "      <th>4</th>\n",
              "      <td>16</td>\n",
              "      <td>108-VN-T01</td>\n",
              "      <td>Pre-PQ Process</td>\n",
              "      <td>SCMS-81</td>\n",
              "      <td>ASN-55</td>\n",
              "      <td>Vietnam</td>\n",
              "      <td>PMO - US</td>\n",
              "      <td>Direct Drop</td>\n",
              "      <td>EXW</td>\n",
              "      <td>Air</td>\n",
              "      <td>...</td>\n",
              "      <td>60</td>\n",
              "      <td>38000</td>\n",
              "      <td>121600.0</td>\n",
              "      <td>3.20</td>\n",
              "      <td>0.05</td>\n",
              "      <td>Aurobindo Unit III, India</td>\n",
              "      <td>True</td>\n",
              "      <td>7590</td>\n",
              "      <td>45450.08</td>\n",
              "      <td>NaN</td>\n",
              "    </tr>\n",
              "  </tbody>\n",
              "</table>\n",
              "<p>5 rows × 33 columns</p>\n",
              "</div>\n",
              "    <div class=\"colab-df-buttons\">\n",
              "\n",
              "  <div class=\"colab-df-container\">\n",
              "    <button class=\"colab-df-convert\" onclick=\"convertToInteractive('df-65350afa-a41e-476f-b72e-fb95de46d5ef')\"\n",
              "            title=\"Convert this dataframe to an interactive table.\"\n",
              "            style=\"display:none;\">\n",
              "\n",
              "  <svg xmlns=\"http://www.w3.org/2000/svg\" height=\"24px\" viewBox=\"0 -960 960 960\">\n",
              "    <path d=\"M120-120v-720h720v720H120Zm60-500h600v-160H180v160Zm220 220h160v-160H400v160Zm0 220h160v-160H400v160ZM180-400h160v-160H180v160Zm440 0h160v-160H620v160ZM180-180h160v-160H180v160Zm440 0h160v-160H620v160Z\"/>\n",
              "  </svg>\n",
              "    </button>\n",
              "\n",
              "  <style>\n",
              "    .colab-df-container {\n",
              "      display:flex;\n",
              "      gap: 12px;\n",
              "    }\n",
              "\n",
              "    .colab-df-convert {\n",
              "      background-color: #E8F0FE;\n",
              "      border: none;\n",
              "      border-radius: 50%;\n",
              "      cursor: pointer;\n",
              "      display: none;\n",
              "      fill: #1967D2;\n",
              "      height: 32px;\n",
              "      padding: 0 0 0 0;\n",
              "      width: 32px;\n",
              "    }\n",
              "\n",
              "    .colab-df-convert:hover {\n",
              "      background-color: #E2EBFA;\n",
              "      box-shadow: 0px 1px 2px rgba(60, 64, 67, 0.3), 0px 1px 3px 1px rgba(60, 64, 67, 0.15);\n",
              "      fill: #174EA6;\n",
              "    }\n",
              "\n",
              "    .colab-df-buttons div {\n",
              "      margin-bottom: 4px;\n",
              "    }\n",
              "\n",
              "    [theme=dark] .colab-df-convert {\n",
              "      background-color: #3B4455;\n",
              "      fill: #D2E3FC;\n",
              "    }\n",
              "\n",
              "    [theme=dark] .colab-df-convert:hover {\n",
              "      background-color: #434B5C;\n",
              "      box-shadow: 0px 1px 3px 1px rgba(0, 0, 0, 0.15);\n",
              "      filter: drop-shadow(0px 1px 2px rgba(0, 0, 0, 0.3));\n",
              "      fill: #FFFFFF;\n",
              "    }\n",
              "  </style>\n",
              "\n",
              "    <script>\n",
              "      const buttonEl =\n",
              "        document.querySelector('#df-65350afa-a41e-476f-b72e-fb95de46d5ef button.colab-df-convert');\n",
              "      buttonEl.style.display =\n",
              "        google.colab.kernel.accessAllowed ? 'block' : 'none';\n",
              "\n",
              "      async function convertToInteractive(key) {\n",
              "        const element = document.querySelector('#df-65350afa-a41e-476f-b72e-fb95de46d5ef');\n",
              "        const dataTable =\n",
              "          await google.colab.kernel.invokeFunction('convertToInteractive',\n",
              "                                                    [key], {});\n",
              "        if (!dataTable) return;\n",
              "\n",
              "        const docLinkHtml = 'Like what you see? Visit the ' +\n",
              "          '<a target=\"_blank\" href=https://colab.research.google.com/notebooks/data_table.ipynb>data table notebook</a>'\n",
              "          + ' to learn more about interactive tables.';\n",
              "        element.innerHTML = '';\n",
              "        dataTable['output_type'] = 'display_data';\n",
              "        await google.colab.output.renderOutput(dataTable, element);\n",
              "        const docLink = document.createElement('div');\n",
              "        docLink.innerHTML = docLinkHtml;\n",
              "        element.appendChild(docLink);\n",
              "      }\n",
              "    </script>\n",
              "  </div>\n",
              "\n",
              "\n",
              "<div id=\"df-2cac1e1b-9898-4928-ba15-b47cc33b3004\">\n",
              "  <button class=\"colab-df-quickchart\" onclick=\"quickchart('df-2cac1e1b-9898-4928-ba15-b47cc33b3004')\"\n",
              "            title=\"Suggest charts\"\n",
              "            style=\"display:none;\">\n",
              "\n",
              "<svg xmlns=\"http://www.w3.org/2000/svg\" height=\"24px\"viewBox=\"0 0 24 24\"\n",
              "     width=\"24px\">\n",
              "    <g>\n",
              "        <path d=\"M19 3H5c-1.1 0-2 .9-2 2v14c0 1.1.9 2 2 2h14c1.1 0 2-.9 2-2V5c0-1.1-.9-2-2-2zM9 17H7v-7h2v7zm4 0h-2V7h2v10zm4 0h-2v-4h2v4z\"/>\n",
              "    </g>\n",
              "</svg>\n",
              "  </button>\n",
              "\n",
              "<style>\n",
              "  .colab-df-quickchart {\n",
              "      --bg-color: #E8F0FE;\n",
              "      --fill-color: #1967D2;\n",
              "      --hover-bg-color: #E2EBFA;\n",
              "      --hover-fill-color: #174EA6;\n",
              "      --disabled-fill-color: #AAA;\n",
              "      --disabled-bg-color: #DDD;\n",
              "  }\n",
              "\n",
              "  [theme=dark] .colab-df-quickchart {\n",
              "      --bg-color: #3B4455;\n",
              "      --fill-color: #D2E3FC;\n",
              "      --hover-bg-color: #434B5C;\n",
              "      --hover-fill-color: #FFFFFF;\n",
              "      --disabled-bg-color: #3B4455;\n",
              "      --disabled-fill-color: #666;\n",
              "  }\n",
              "\n",
              "  .colab-df-quickchart {\n",
              "    background-color: var(--bg-color);\n",
              "    border: none;\n",
              "    border-radius: 50%;\n",
              "    cursor: pointer;\n",
              "    display: none;\n",
              "    fill: var(--fill-color);\n",
              "    height: 32px;\n",
              "    padding: 0;\n",
              "    width: 32px;\n",
              "  }\n",
              "\n",
              "  .colab-df-quickchart:hover {\n",
              "    background-color: var(--hover-bg-color);\n",
              "    box-shadow: 0 1px 2px rgba(60, 64, 67, 0.3), 0 1px 3px 1px rgba(60, 64, 67, 0.15);\n",
              "    fill: var(--button-hover-fill-color);\n",
              "  }\n",
              "\n",
              "  .colab-df-quickchart-complete:disabled,\n",
              "  .colab-df-quickchart-complete:disabled:hover {\n",
              "    background-color: var(--disabled-bg-color);\n",
              "    fill: var(--disabled-fill-color);\n",
              "    box-shadow: none;\n",
              "  }\n",
              "\n",
              "  .colab-df-spinner {\n",
              "    border: 2px solid var(--fill-color);\n",
              "    border-color: transparent;\n",
              "    border-bottom-color: var(--fill-color);\n",
              "    animation:\n",
              "      spin 1s steps(1) infinite;\n",
              "  }\n",
              "\n",
              "  @keyframes spin {\n",
              "    0% {\n",
              "      border-color: transparent;\n",
              "      border-bottom-color: var(--fill-color);\n",
              "      border-left-color: var(--fill-color);\n",
              "    }\n",
              "    20% {\n",
              "      border-color: transparent;\n",
              "      border-left-color: var(--fill-color);\n",
              "      border-top-color: var(--fill-color);\n",
              "    }\n",
              "    30% {\n",
              "      border-color: transparent;\n",
              "      border-left-color: var(--fill-color);\n",
              "      border-top-color: var(--fill-color);\n",
              "      border-right-color: var(--fill-color);\n",
              "    }\n",
              "    40% {\n",
              "      border-color: transparent;\n",
              "      border-right-color: var(--fill-color);\n",
              "      border-top-color: var(--fill-color);\n",
              "    }\n",
              "    60% {\n",
              "      border-color: transparent;\n",
              "      border-right-color: var(--fill-color);\n",
              "    }\n",
              "    80% {\n",
              "      border-color: transparent;\n",
              "      border-right-color: var(--fill-color);\n",
              "      border-bottom-color: var(--fill-color);\n",
              "    }\n",
              "    90% {\n",
              "      border-color: transparent;\n",
              "      border-bottom-color: var(--fill-color);\n",
              "    }\n",
              "  }\n",
              "</style>\n",
              "\n",
              "  <script>\n",
              "    async function quickchart(key) {\n",
              "      const quickchartButtonEl =\n",
              "        document.querySelector('#' + key + ' button');\n",
              "      quickchartButtonEl.disabled = true;  // To prevent multiple clicks.\n",
              "      quickchartButtonEl.classList.add('colab-df-spinner');\n",
              "      try {\n",
              "        const charts = await google.colab.kernel.invokeFunction(\n",
              "            'suggestCharts', [key], {});\n",
              "      } catch (error) {\n",
              "        console.error('Error during call to suggestCharts:', error);\n",
              "      }\n",
              "      quickchartButtonEl.classList.remove('colab-df-spinner');\n",
              "      quickchartButtonEl.classList.add('colab-df-quickchart-complete');\n",
              "    }\n",
              "    (() => {\n",
              "      let quickchartButtonEl =\n",
              "        document.querySelector('#df-2cac1e1b-9898-4928-ba15-b47cc33b3004 button');\n",
              "      quickchartButtonEl.style.display =\n",
              "        google.colab.kernel.accessAllowed ? 'block' : 'none';\n",
              "    })();\n",
              "  </script>\n",
              "</div>\n",
              "\n",
              "    </div>\n",
              "  </div>\n"
            ],
            "application/vnd.google.colaboratory.intrinsic+json": {
              "type": "dataframe",
              "variable_name": "df"
            }
          },
          "metadata": {},
          "execution_count": 3
        }
      ]
    },
    {
      "cell_type": "code",
      "source": [
        "df.info()"
      ],
      "metadata": {
        "colab": {
          "base_uri": "https://localhost:8080/"
        },
        "id": "UB6xACwls5Ib",
        "outputId": "99225404-0df6-4262-b6a5-0b07f8aaa14a"
      },
      "execution_count": 4,
      "outputs": [
        {
          "output_type": "stream",
          "name": "stdout",
          "text": [
            "<class 'pandas.core.frame.DataFrame'>\n",
            "RangeIndex: 10324 entries, 0 to 10323\n",
            "Data columns (total 33 columns):\n",
            " #   Column                        Non-Null Count  Dtype  \n",
            "---  ------                        --------------  -----  \n",
            " 0   id                            10324 non-null  int64  \n",
            " 1   project code                  10324 non-null  object \n",
            " 2   pq #                          10324 non-null  object \n",
            " 3   po / so #                     10324 non-null  object \n",
            " 4   asn/dn #                      10324 non-null  object \n",
            " 5   country                       10324 non-null  object \n",
            " 6   managed by                    10324 non-null  object \n",
            " 7   fulfill via                   10324 non-null  object \n",
            " 8   vendor inco term              10324 non-null  object \n",
            " 9   shipment mode                 9964 non-null   object \n",
            " 10  pq first sent to client date  10324 non-null  object \n",
            " 11  po sent to vendor date        10324 non-null  object \n",
            " 12  scheduled delivery date       10324 non-null  object \n",
            " 13  delivered to client date      10324 non-null  object \n",
            " 14  delivery recorded date        10324 non-null  object \n",
            " 15  product group                 10324 non-null  object \n",
            " 16  sub classification            10324 non-null  object \n",
            " 17  vendor                        10324 non-null  object \n",
            " 18  item description              10324 non-null  object \n",
            " 19  molecule/test type            10324 non-null  object \n",
            " 20  brand                         10324 non-null  object \n",
            " 21  dosage                        8588 non-null   object \n",
            " 22  dosage form                   10324 non-null  object \n",
            " 23  unit of measure (per pack)    10324 non-null  int64  \n",
            " 24  line item quantity            10324 non-null  int64  \n",
            " 25  line item value               10324 non-null  float64\n",
            " 26  pack price                    10324 non-null  float64\n",
            " 27  unit price                    10324 non-null  float64\n",
            " 28  manufacturing site            10324 non-null  object \n",
            " 29  first line designation        10324 non-null  bool   \n",
            " 30  weight (kilograms)            10324 non-null  object \n",
            " 31  freight cost (usd)            10324 non-null  object \n",
            " 32  line item insurance (usd)     10037 non-null  float64\n",
            "dtypes: bool(1), float64(4), int64(3), object(25)\n",
            "memory usage: 2.5+ MB\n"
          ]
        }
      ]
    },
    {
      "cell_type": "code",
      "source": [
        "df.isnull().sum()"
      ],
      "metadata": {
        "colab": {
          "base_uri": "https://localhost:8080/",
          "height": 1000
        },
        "id": "yk-c19E1sz9i",
        "outputId": "1df5de02-7802-4c67-a1dd-d5b15d4997fa"
      },
      "execution_count": 5,
      "outputs": [
        {
          "output_type": "execute_result",
          "data": {
            "text/plain": [
              "id                                 0\n",
              "project code                       0\n",
              "pq #                               0\n",
              "po / so #                          0\n",
              "asn/dn #                           0\n",
              "country                            0\n",
              "managed by                         0\n",
              "fulfill via                        0\n",
              "vendor inco term                   0\n",
              "shipment mode                    360\n",
              "pq first sent to client date       0\n",
              "po sent to vendor date             0\n",
              "scheduled delivery date            0\n",
              "delivered to client date           0\n",
              "delivery recorded date             0\n",
              "product group                      0\n",
              "sub classification                 0\n",
              "vendor                             0\n",
              "item description                   0\n",
              "molecule/test type                 0\n",
              "brand                              0\n",
              "dosage                          1736\n",
              "dosage form                        0\n",
              "unit of measure (per pack)         0\n",
              "line item quantity                 0\n",
              "line item value                    0\n",
              "pack price                         0\n",
              "unit price                         0\n",
              "manufacturing site                 0\n",
              "first line designation             0\n",
              "weight (kilograms)                 0\n",
              "freight cost (usd)                 0\n",
              "line item insurance (usd)        287\n",
              "dtype: int64"
            ],
            "text/html": [
              "<div>\n",
              "<style scoped>\n",
              "    .dataframe tbody tr th:only-of-type {\n",
              "        vertical-align: middle;\n",
              "    }\n",
              "\n",
              "    .dataframe tbody tr th {\n",
              "        vertical-align: top;\n",
              "    }\n",
              "\n",
              "    .dataframe thead th {\n",
              "        text-align: right;\n",
              "    }\n",
              "</style>\n",
              "<table border=\"1\" class=\"dataframe\">\n",
              "  <thead>\n",
              "    <tr style=\"text-align: right;\">\n",
              "      <th></th>\n",
              "      <th>0</th>\n",
              "    </tr>\n",
              "  </thead>\n",
              "  <tbody>\n",
              "    <tr>\n",
              "      <th>id</th>\n",
              "      <td>0</td>\n",
              "    </tr>\n",
              "    <tr>\n",
              "      <th>project code</th>\n",
              "      <td>0</td>\n",
              "    </tr>\n",
              "    <tr>\n",
              "      <th>pq #</th>\n",
              "      <td>0</td>\n",
              "    </tr>\n",
              "    <tr>\n",
              "      <th>po / so #</th>\n",
              "      <td>0</td>\n",
              "    </tr>\n",
              "    <tr>\n",
              "      <th>asn/dn #</th>\n",
              "      <td>0</td>\n",
              "    </tr>\n",
              "    <tr>\n",
              "      <th>country</th>\n",
              "      <td>0</td>\n",
              "    </tr>\n",
              "    <tr>\n",
              "      <th>managed by</th>\n",
              "      <td>0</td>\n",
              "    </tr>\n",
              "    <tr>\n",
              "      <th>fulfill via</th>\n",
              "      <td>0</td>\n",
              "    </tr>\n",
              "    <tr>\n",
              "      <th>vendor inco term</th>\n",
              "      <td>0</td>\n",
              "    </tr>\n",
              "    <tr>\n",
              "      <th>shipment mode</th>\n",
              "      <td>360</td>\n",
              "    </tr>\n",
              "    <tr>\n",
              "      <th>pq first sent to client date</th>\n",
              "      <td>0</td>\n",
              "    </tr>\n",
              "    <tr>\n",
              "      <th>po sent to vendor date</th>\n",
              "      <td>0</td>\n",
              "    </tr>\n",
              "    <tr>\n",
              "      <th>scheduled delivery date</th>\n",
              "      <td>0</td>\n",
              "    </tr>\n",
              "    <tr>\n",
              "      <th>delivered to client date</th>\n",
              "      <td>0</td>\n",
              "    </tr>\n",
              "    <tr>\n",
              "      <th>delivery recorded date</th>\n",
              "      <td>0</td>\n",
              "    </tr>\n",
              "    <tr>\n",
              "      <th>product group</th>\n",
              "      <td>0</td>\n",
              "    </tr>\n",
              "    <tr>\n",
              "      <th>sub classification</th>\n",
              "      <td>0</td>\n",
              "    </tr>\n",
              "    <tr>\n",
              "      <th>vendor</th>\n",
              "      <td>0</td>\n",
              "    </tr>\n",
              "    <tr>\n",
              "      <th>item description</th>\n",
              "      <td>0</td>\n",
              "    </tr>\n",
              "    <tr>\n",
              "      <th>molecule/test type</th>\n",
              "      <td>0</td>\n",
              "    </tr>\n",
              "    <tr>\n",
              "      <th>brand</th>\n",
              "      <td>0</td>\n",
              "    </tr>\n",
              "    <tr>\n",
              "      <th>dosage</th>\n",
              "      <td>1736</td>\n",
              "    </tr>\n",
              "    <tr>\n",
              "      <th>dosage form</th>\n",
              "      <td>0</td>\n",
              "    </tr>\n",
              "    <tr>\n",
              "      <th>unit of measure (per pack)</th>\n",
              "      <td>0</td>\n",
              "    </tr>\n",
              "    <tr>\n",
              "      <th>line item quantity</th>\n",
              "      <td>0</td>\n",
              "    </tr>\n",
              "    <tr>\n",
              "      <th>line item value</th>\n",
              "      <td>0</td>\n",
              "    </tr>\n",
              "    <tr>\n",
              "      <th>pack price</th>\n",
              "      <td>0</td>\n",
              "    </tr>\n",
              "    <tr>\n",
              "      <th>unit price</th>\n",
              "      <td>0</td>\n",
              "    </tr>\n",
              "    <tr>\n",
              "      <th>manufacturing site</th>\n",
              "      <td>0</td>\n",
              "    </tr>\n",
              "    <tr>\n",
              "      <th>first line designation</th>\n",
              "      <td>0</td>\n",
              "    </tr>\n",
              "    <tr>\n",
              "      <th>weight (kilograms)</th>\n",
              "      <td>0</td>\n",
              "    </tr>\n",
              "    <tr>\n",
              "      <th>freight cost (usd)</th>\n",
              "      <td>0</td>\n",
              "    </tr>\n",
              "    <tr>\n",
              "      <th>line item insurance (usd)</th>\n",
              "      <td>287</td>\n",
              "    </tr>\n",
              "  </tbody>\n",
              "</table>\n",
              "</div><br><label><b>dtype:</b> int64</label>"
            ]
          },
          "metadata": {},
          "execution_count": 5
        }
      ]
    },
    {
      "cell_type": "code",
      "source": [
        "df.columns"
      ],
      "metadata": {
        "colab": {
          "base_uri": "https://localhost:8080/"
        },
        "id": "-UT0ccsTtYXL",
        "outputId": "06926897-c851-44b6-fb08-3a306316224e"
      },
      "execution_count": 6,
      "outputs": [
        {
          "output_type": "execute_result",
          "data": {
            "text/plain": [
              "Index(['id', 'project code', 'pq #', 'po / so #', 'asn/dn #', 'country',\n",
              "       'managed by', 'fulfill via', 'vendor inco term', 'shipment mode',\n",
              "       'pq first sent to client date', 'po sent to vendor date',\n",
              "       'scheduled delivery date', 'delivered to client date',\n",
              "       'delivery recorded date', 'product group', 'sub classification',\n",
              "       'vendor', 'item description', 'molecule/test type', 'brand', 'dosage',\n",
              "       'dosage form', 'unit of measure (per pack)', 'line item quantity',\n",
              "       'line item value', 'pack price', 'unit price', 'manufacturing site',\n",
              "       'first line designation', 'weight (kilograms)', 'freight cost (usd)',\n",
              "       'line item insurance (usd)'],\n",
              "      dtype='object')"
            ]
          },
          "metadata": {},
          "execution_count": 6
        }
      ]
    },
    {
      "cell_type": "code",
      "source": [
        "df.shape"
      ],
      "metadata": {
        "colab": {
          "base_uri": "https://localhost:8080/"
        },
        "id": "1FlFtYj_up6F",
        "outputId": "a665d76f-3199-408e-d82d-7866756e1b0f"
      },
      "execution_count": 7,
      "outputs": [
        {
          "output_type": "execute_result",
          "data": {
            "text/plain": [
              "(10324, 33)"
            ]
          },
          "metadata": {},
          "execution_count": 7
        }
      ]
    },
    {
      "cell_type": "code",
      "source": [
        "df[\"first line designation\"].unique().shape\n",
        "df[\"pq #\"].unique()\n",
        "df[\"po / so #\"]\n",
        "df[\"sub classification\"].unique()\n",
        "df[\"item description\"]\n",
        "df[\"freight cost (usd)\"].unique()\n",
        "df[\"vendor inco term\"].unique()\n",
        "df[\"dosage\"].unique()"
      ],
      "metadata": {
        "colab": {
          "base_uri": "https://localhost:8080/"
        },
        "id": "fFP2pb6CtdPC",
        "outputId": "f9500e6b-4917-419c-ef7f-dd0463af19fa"
      },
      "execution_count": 8,
      "outputs": [
        {
          "output_type": "execute_result",
          "data": {
            "text/plain": [
              "array([nan, '10mg/ml', '150mg', '30mg', '200mg', '200/50mg', '150/300mg',\n",
              "       '300mg', '2g', '1mg/ml', '600mg', '25mg', '20mg', '250mg', '400mg',\n",
              "       '20/120mg', '50+153mg', '600/200/300mg', '100mg', '15mg',\n",
              "       '80/20mg/ml', '600mg/2ml', '150/200/30mg', '100/25mg', '50mg',\n",
              "       '300/200mg', '150/300/200mg', '133.3/33.3mg', '80mg/ml', '30/6mg',\n",
              "       '20mg/ml', '40mg', '300/150/300mg', '500/25mg', '30/50/6mg',\n",
              "       '150/300+200mg', '150/30mg', '150/200/40mg', '30mg/ml',\n",
              "       '200/300mg', '150/300+300mg', '300/300mg', '60/100/12mg',\n",
              "       '600/300/300mg', '300/100mg', '30/60mg', '60/30mg', '30/50/60mg',\n",
              "       '500mg', '125mg', '600/300mg', '60mg', '60/12mg',\n",
              "       '150/300mg+600mg', '50mg/g'], dtype=object)"
            ]
          },
          "metadata": {},
          "execution_count": 8
        }
      ]
    },
    {
      "cell_type": "markdown",
      "source": [
        "Renamed 'id' column to 'ID'"
      ],
      "metadata": {
        "id": "5Hg8uja-GaR_"
      }
    },
    {
      "cell_type": "code",
      "source": [
        "df=df.rename(columns={\"id\":\"ID\"})"
      ],
      "metadata": {
        "id": "_MyJ2fynl0sD"
      },
      "execution_count": 9,
      "outputs": []
    },
    {
      "cell_type": "markdown",
      "source": [
        "Drop duplicate entries in 'ID' column"
      ],
      "metadata": {
        "id": "8AZtZuq4GhWS"
      }
    },
    {
      "cell_type": "code",
      "source": [
        "df.drop_duplicates(subset=\"ID\")"
      ],
      "metadata": {
        "colab": {
          "base_uri": "https://localhost:8080/",
          "height": 842
        },
        "id": "JEfDFNeOPOLW",
        "outputId": "a4098ae5-ead1-4161-97b8-ee63c9fd61b8"
      },
      "execution_count": 10,
      "outputs": [
        {
          "output_type": "execute_result",
          "data": {
            "text/plain": [
              "          ID project code            pq # po / so # asn/dn #        country  \\\n",
              "0          1   100-CI-T01  Pre-PQ Process    SCMS-4    ASN-8  Côte d'Ivoire   \n",
              "1          3   108-VN-T01  Pre-PQ Process   SCMS-13   ASN-85        Vietnam   \n",
              "2          4   100-CI-T01  Pre-PQ Process   SCMS-20   ASN-14  Côte d'Ivoire   \n",
              "3         15   108-VN-T01  Pre-PQ Process   SCMS-78   ASN-50        Vietnam   \n",
              "4         16   108-VN-T01  Pre-PQ Process   SCMS-81   ASN-55        Vietnam   \n",
              "...      ...          ...             ...       ...      ...            ...   \n",
              "10319  86818   103-ZW-T30       FPQ-15197  SO-50020  DN-4307       Zimbabwe   \n",
              "10320  86819   104-CI-T30       FPQ-15259  SO-50102  DN-4313  Côte d'Ivoire   \n",
              "10321  86821   110-ZM-T30       FPQ-14784  SO-49600  DN-4316         Zambia   \n",
              "10322  86822   200-ZW-T30       FPQ-16523  SO-51680  DN-4334       Zimbabwe   \n",
              "10323  86823   103-ZW-T30       FPQ-15197  SO-50022  DN-4336       Zimbabwe   \n",
              "\n",
              "      managed by  fulfill via vendor inco term shipment mode  ...  \\\n",
              "0       PMO - US  Direct Drop              EXW           Air  ...   \n",
              "1       PMO - US  Direct Drop              EXW           Air  ...   \n",
              "2       PMO - US  Direct Drop              FCA           Air  ...   \n",
              "3       PMO - US  Direct Drop              EXW           Air  ...   \n",
              "4       PMO - US  Direct Drop              EXW           Air  ...   \n",
              "...          ...          ...              ...           ...  ...   \n",
              "10319   PMO - US     From RDC   N/A - From RDC         Truck  ...   \n",
              "10320   PMO - US     From RDC   N/A - From RDC         Truck  ...   \n",
              "10321   PMO - US     From RDC   N/A - From RDC         Truck  ...   \n",
              "10322   PMO - US     From RDC   N/A - From RDC         Truck  ...   \n",
              "10323   PMO - US     From RDC   N/A - From RDC         Truck  ...   \n",
              "\n",
              "      unit of measure (per pack) line item quantity line item value  \\\n",
              "0                             30                 19          551.00   \n",
              "1                            240               1000         6200.00   \n",
              "2                            100                500        40000.00   \n",
              "3                             60              31920       127360.80   \n",
              "4                             60              38000       121600.00   \n",
              "...                          ...                ...             ...   \n",
              "10319                         60             166571       599655.60   \n",
              "10320                         60              21072       137389.44   \n",
              "10321                         30             514526      5140114.74   \n",
              "10322                         60              17465       113871.80   \n",
              "10323                         60              36639        72911.61   \n",
              "\n",
              "      pack price unit price              manufacturing site  \\\n",
              "0          29.00       0.97      Ranbaxy Fine Chemicals LTD   \n",
              "1           6.20       0.03       Aurobindo Unit III, India   \n",
              "2          80.00       0.80   ABBVIE GmbH & Co.KG Wiesbaden   \n",
              "3           3.99       0.07   Ranbaxy, Paonta Shahib, India   \n",
              "4           3.20       0.05       Aurobindo Unit III, India   \n",
              "...          ...        ...                             ...   \n",
              "10319       3.60       0.06      Mylan,  H-12 & H-13, India   \n",
              "10320       6.52       0.11    Hetero Unit III Hyderabad IN   \n",
              "10321       9.99       0.33   Cipla Ltd A-42 MIDC Mahar. IN   \n",
              "10322       6.52       0.11  Mylan (formerly Matrix) Nashik   \n",
              "10323       1.99       0.03               Cipla, Goa, India   \n",
              "\n",
              "      first line designation          weight (kilograms)  \\\n",
              "0                       True                          13   \n",
              "1                       True                         358   \n",
              "2                       True                         171   \n",
              "3                       True                        1855   \n",
              "4                       True                        7590   \n",
              "...                      ...                         ...   \n",
              "10319                  False     See DN-4307 (ID#:83920)   \n",
              "10320                  False     See DN-4313 (ID#:83921)   \n",
              "10321                  False  Weight Captured Separately   \n",
              "10322                   True                        1392   \n",
              "10323                  False  Weight Captured Separately   \n",
              "\n",
              "                       freight cost (usd) line item insurance (usd)  \n",
              "0                                  780.34                       NaN  \n",
              "1                                  4521.5                       NaN  \n",
              "2                                 1653.78                       NaN  \n",
              "3                                16007.06                       NaN  \n",
              "4                                45450.08                       NaN  \n",
              "...                                   ...                       ...  \n",
              "10319             See DN-4307 (ID#:83920)                    705.79  \n",
              "10320             See DN-4313 (ID#:83921)                    161.71  \n",
              "10321  Freight Included in Commodity Cost                   5284.04  \n",
              "10322  Freight Included in Commodity Cost                    134.03  \n",
              "10323  Freight Included in Commodity Cost                     85.82  \n",
              "\n",
              "[10324 rows x 33 columns]"
            ],
            "text/html": [
              "\n",
              "  <div id=\"df-20233292-4e62-4710-b259-7010c4b3b360\" class=\"colab-df-container\">\n",
              "    <div>\n",
              "<style scoped>\n",
              "    .dataframe tbody tr th:only-of-type {\n",
              "        vertical-align: middle;\n",
              "    }\n",
              "\n",
              "    .dataframe tbody tr th {\n",
              "        vertical-align: top;\n",
              "    }\n",
              "\n",
              "    .dataframe thead th {\n",
              "        text-align: right;\n",
              "    }\n",
              "</style>\n",
              "<table border=\"1\" class=\"dataframe\">\n",
              "  <thead>\n",
              "    <tr style=\"text-align: right;\">\n",
              "      <th></th>\n",
              "      <th>ID</th>\n",
              "      <th>project code</th>\n",
              "      <th>pq #</th>\n",
              "      <th>po / so #</th>\n",
              "      <th>asn/dn #</th>\n",
              "      <th>country</th>\n",
              "      <th>managed by</th>\n",
              "      <th>fulfill via</th>\n",
              "      <th>vendor inco term</th>\n",
              "      <th>shipment mode</th>\n",
              "      <th>...</th>\n",
              "      <th>unit of measure (per pack)</th>\n",
              "      <th>line item quantity</th>\n",
              "      <th>line item value</th>\n",
              "      <th>pack price</th>\n",
              "      <th>unit price</th>\n",
              "      <th>manufacturing site</th>\n",
              "      <th>first line designation</th>\n",
              "      <th>weight (kilograms)</th>\n",
              "      <th>freight cost (usd)</th>\n",
              "      <th>line item insurance (usd)</th>\n",
              "    </tr>\n",
              "  </thead>\n",
              "  <tbody>\n",
              "    <tr>\n",
              "      <th>0</th>\n",
              "      <td>1</td>\n",
              "      <td>100-CI-T01</td>\n",
              "      <td>Pre-PQ Process</td>\n",
              "      <td>SCMS-4</td>\n",
              "      <td>ASN-8</td>\n",
              "      <td>Côte d'Ivoire</td>\n",
              "      <td>PMO - US</td>\n",
              "      <td>Direct Drop</td>\n",
              "      <td>EXW</td>\n",
              "      <td>Air</td>\n",
              "      <td>...</td>\n",
              "      <td>30</td>\n",
              "      <td>19</td>\n",
              "      <td>551.00</td>\n",
              "      <td>29.00</td>\n",
              "      <td>0.97</td>\n",
              "      <td>Ranbaxy Fine Chemicals LTD</td>\n",
              "      <td>True</td>\n",
              "      <td>13</td>\n",
              "      <td>780.34</td>\n",
              "      <td>NaN</td>\n",
              "    </tr>\n",
              "    <tr>\n",
              "      <th>1</th>\n",
              "      <td>3</td>\n",
              "      <td>108-VN-T01</td>\n",
              "      <td>Pre-PQ Process</td>\n",
              "      <td>SCMS-13</td>\n",
              "      <td>ASN-85</td>\n",
              "      <td>Vietnam</td>\n",
              "      <td>PMO - US</td>\n",
              "      <td>Direct Drop</td>\n",
              "      <td>EXW</td>\n",
              "      <td>Air</td>\n",
              "      <td>...</td>\n",
              "      <td>240</td>\n",
              "      <td>1000</td>\n",
              "      <td>6200.00</td>\n",
              "      <td>6.20</td>\n",
              "      <td>0.03</td>\n",
              "      <td>Aurobindo Unit III, India</td>\n",
              "      <td>True</td>\n",
              "      <td>358</td>\n",
              "      <td>4521.5</td>\n",
              "      <td>NaN</td>\n",
              "    </tr>\n",
              "    <tr>\n",
              "      <th>2</th>\n",
              "      <td>4</td>\n",
              "      <td>100-CI-T01</td>\n",
              "      <td>Pre-PQ Process</td>\n",
              "      <td>SCMS-20</td>\n",
              "      <td>ASN-14</td>\n",
              "      <td>Côte d'Ivoire</td>\n",
              "      <td>PMO - US</td>\n",
              "      <td>Direct Drop</td>\n",
              "      <td>FCA</td>\n",
              "      <td>Air</td>\n",
              "      <td>...</td>\n",
              "      <td>100</td>\n",
              "      <td>500</td>\n",
              "      <td>40000.00</td>\n",
              "      <td>80.00</td>\n",
              "      <td>0.80</td>\n",
              "      <td>ABBVIE GmbH &amp; Co.KG Wiesbaden</td>\n",
              "      <td>True</td>\n",
              "      <td>171</td>\n",
              "      <td>1653.78</td>\n",
              "      <td>NaN</td>\n",
              "    </tr>\n",
              "    <tr>\n",
              "      <th>3</th>\n",
              "      <td>15</td>\n",
              "      <td>108-VN-T01</td>\n",
              "      <td>Pre-PQ Process</td>\n",
              "      <td>SCMS-78</td>\n",
              "      <td>ASN-50</td>\n",
              "      <td>Vietnam</td>\n",
              "      <td>PMO - US</td>\n",
              "      <td>Direct Drop</td>\n",
              "      <td>EXW</td>\n",
              "      <td>Air</td>\n",
              "      <td>...</td>\n",
              "      <td>60</td>\n",
              "      <td>31920</td>\n",
              "      <td>127360.80</td>\n",
              "      <td>3.99</td>\n",
              "      <td>0.07</td>\n",
              "      <td>Ranbaxy, Paonta Shahib, India</td>\n",
              "      <td>True</td>\n",
              "      <td>1855</td>\n",
              "      <td>16007.06</td>\n",
              "      <td>NaN</td>\n",
              "    </tr>\n",
              "    <tr>\n",
              "      <th>4</th>\n",
              "      <td>16</td>\n",
              "      <td>108-VN-T01</td>\n",
              "      <td>Pre-PQ Process</td>\n",
              "      <td>SCMS-81</td>\n",
              "      <td>ASN-55</td>\n",
              "      <td>Vietnam</td>\n",
              "      <td>PMO - US</td>\n",
              "      <td>Direct Drop</td>\n",
              "      <td>EXW</td>\n",
              "      <td>Air</td>\n",
              "      <td>...</td>\n",
              "      <td>60</td>\n",
              "      <td>38000</td>\n",
              "      <td>121600.00</td>\n",
              "      <td>3.20</td>\n",
              "      <td>0.05</td>\n",
              "      <td>Aurobindo Unit III, India</td>\n",
              "      <td>True</td>\n",
              "      <td>7590</td>\n",
              "      <td>45450.08</td>\n",
              "      <td>NaN</td>\n",
              "    </tr>\n",
              "    <tr>\n",
              "      <th>...</th>\n",
              "      <td>...</td>\n",
              "      <td>...</td>\n",
              "      <td>...</td>\n",
              "      <td>...</td>\n",
              "      <td>...</td>\n",
              "      <td>...</td>\n",
              "      <td>...</td>\n",
              "      <td>...</td>\n",
              "      <td>...</td>\n",
              "      <td>...</td>\n",
              "      <td>...</td>\n",
              "      <td>...</td>\n",
              "      <td>...</td>\n",
              "      <td>...</td>\n",
              "      <td>...</td>\n",
              "      <td>...</td>\n",
              "      <td>...</td>\n",
              "      <td>...</td>\n",
              "      <td>...</td>\n",
              "      <td>...</td>\n",
              "      <td>...</td>\n",
              "    </tr>\n",
              "    <tr>\n",
              "      <th>10319</th>\n",
              "      <td>86818</td>\n",
              "      <td>103-ZW-T30</td>\n",
              "      <td>FPQ-15197</td>\n",
              "      <td>SO-50020</td>\n",
              "      <td>DN-4307</td>\n",
              "      <td>Zimbabwe</td>\n",
              "      <td>PMO - US</td>\n",
              "      <td>From RDC</td>\n",
              "      <td>N/A - From RDC</td>\n",
              "      <td>Truck</td>\n",
              "      <td>...</td>\n",
              "      <td>60</td>\n",
              "      <td>166571</td>\n",
              "      <td>599655.60</td>\n",
              "      <td>3.60</td>\n",
              "      <td>0.06</td>\n",
              "      <td>Mylan,  H-12 &amp; H-13, India</td>\n",
              "      <td>False</td>\n",
              "      <td>See DN-4307 (ID#:83920)</td>\n",
              "      <td>See DN-4307 (ID#:83920)</td>\n",
              "      <td>705.79</td>\n",
              "    </tr>\n",
              "    <tr>\n",
              "      <th>10320</th>\n",
              "      <td>86819</td>\n",
              "      <td>104-CI-T30</td>\n",
              "      <td>FPQ-15259</td>\n",
              "      <td>SO-50102</td>\n",
              "      <td>DN-4313</td>\n",
              "      <td>Côte d'Ivoire</td>\n",
              "      <td>PMO - US</td>\n",
              "      <td>From RDC</td>\n",
              "      <td>N/A - From RDC</td>\n",
              "      <td>Truck</td>\n",
              "      <td>...</td>\n",
              "      <td>60</td>\n",
              "      <td>21072</td>\n",
              "      <td>137389.44</td>\n",
              "      <td>6.52</td>\n",
              "      <td>0.11</td>\n",
              "      <td>Hetero Unit III Hyderabad IN</td>\n",
              "      <td>False</td>\n",
              "      <td>See DN-4313 (ID#:83921)</td>\n",
              "      <td>See DN-4313 (ID#:83921)</td>\n",
              "      <td>161.71</td>\n",
              "    </tr>\n",
              "    <tr>\n",
              "      <th>10321</th>\n",
              "      <td>86821</td>\n",
              "      <td>110-ZM-T30</td>\n",
              "      <td>FPQ-14784</td>\n",
              "      <td>SO-49600</td>\n",
              "      <td>DN-4316</td>\n",
              "      <td>Zambia</td>\n",
              "      <td>PMO - US</td>\n",
              "      <td>From RDC</td>\n",
              "      <td>N/A - From RDC</td>\n",
              "      <td>Truck</td>\n",
              "      <td>...</td>\n",
              "      <td>30</td>\n",
              "      <td>514526</td>\n",
              "      <td>5140114.74</td>\n",
              "      <td>9.99</td>\n",
              "      <td>0.33</td>\n",
              "      <td>Cipla Ltd A-42 MIDC Mahar. IN</td>\n",
              "      <td>False</td>\n",
              "      <td>Weight Captured Separately</td>\n",
              "      <td>Freight Included in Commodity Cost</td>\n",
              "      <td>5284.04</td>\n",
              "    </tr>\n",
              "    <tr>\n",
              "      <th>10322</th>\n",
              "      <td>86822</td>\n",
              "      <td>200-ZW-T30</td>\n",
              "      <td>FPQ-16523</td>\n",
              "      <td>SO-51680</td>\n",
              "      <td>DN-4334</td>\n",
              "      <td>Zimbabwe</td>\n",
              "      <td>PMO - US</td>\n",
              "      <td>From RDC</td>\n",
              "      <td>N/A - From RDC</td>\n",
              "      <td>Truck</td>\n",
              "      <td>...</td>\n",
              "      <td>60</td>\n",
              "      <td>17465</td>\n",
              "      <td>113871.80</td>\n",
              "      <td>6.52</td>\n",
              "      <td>0.11</td>\n",
              "      <td>Mylan (formerly Matrix) Nashik</td>\n",
              "      <td>True</td>\n",
              "      <td>1392</td>\n",
              "      <td>Freight Included in Commodity Cost</td>\n",
              "      <td>134.03</td>\n",
              "    </tr>\n",
              "    <tr>\n",
              "      <th>10323</th>\n",
              "      <td>86823</td>\n",
              "      <td>103-ZW-T30</td>\n",
              "      <td>FPQ-15197</td>\n",
              "      <td>SO-50022</td>\n",
              "      <td>DN-4336</td>\n",
              "      <td>Zimbabwe</td>\n",
              "      <td>PMO - US</td>\n",
              "      <td>From RDC</td>\n",
              "      <td>N/A - From RDC</td>\n",
              "      <td>Truck</td>\n",
              "      <td>...</td>\n",
              "      <td>60</td>\n",
              "      <td>36639</td>\n",
              "      <td>72911.61</td>\n",
              "      <td>1.99</td>\n",
              "      <td>0.03</td>\n",
              "      <td>Cipla, Goa, India</td>\n",
              "      <td>False</td>\n",
              "      <td>Weight Captured Separately</td>\n",
              "      <td>Freight Included in Commodity Cost</td>\n",
              "      <td>85.82</td>\n",
              "    </tr>\n",
              "  </tbody>\n",
              "</table>\n",
              "<p>10324 rows × 33 columns</p>\n",
              "</div>\n",
              "    <div class=\"colab-df-buttons\">\n",
              "\n",
              "  <div class=\"colab-df-container\">\n",
              "    <button class=\"colab-df-convert\" onclick=\"convertToInteractive('df-20233292-4e62-4710-b259-7010c4b3b360')\"\n",
              "            title=\"Convert this dataframe to an interactive table.\"\n",
              "            style=\"display:none;\">\n",
              "\n",
              "  <svg xmlns=\"http://www.w3.org/2000/svg\" height=\"24px\" viewBox=\"0 -960 960 960\">\n",
              "    <path d=\"M120-120v-720h720v720H120Zm60-500h600v-160H180v160Zm220 220h160v-160H400v160Zm0 220h160v-160H400v160ZM180-400h160v-160H180v160Zm440 0h160v-160H620v160ZM180-180h160v-160H180v160Zm440 0h160v-160H620v160Z\"/>\n",
              "  </svg>\n",
              "    </button>\n",
              "\n",
              "  <style>\n",
              "    .colab-df-container {\n",
              "      display:flex;\n",
              "      gap: 12px;\n",
              "    }\n",
              "\n",
              "    .colab-df-convert {\n",
              "      background-color: #E8F0FE;\n",
              "      border: none;\n",
              "      border-radius: 50%;\n",
              "      cursor: pointer;\n",
              "      display: none;\n",
              "      fill: #1967D2;\n",
              "      height: 32px;\n",
              "      padding: 0 0 0 0;\n",
              "      width: 32px;\n",
              "    }\n",
              "\n",
              "    .colab-df-convert:hover {\n",
              "      background-color: #E2EBFA;\n",
              "      box-shadow: 0px 1px 2px rgba(60, 64, 67, 0.3), 0px 1px 3px 1px rgba(60, 64, 67, 0.15);\n",
              "      fill: #174EA6;\n",
              "    }\n",
              "\n",
              "    .colab-df-buttons div {\n",
              "      margin-bottom: 4px;\n",
              "    }\n",
              "\n",
              "    [theme=dark] .colab-df-convert {\n",
              "      background-color: #3B4455;\n",
              "      fill: #D2E3FC;\n",
              "    }\n",
              "\n",
              "    [theme=dark] .colab-df-convert:hover {\n",
              "      background-color: #434B5C;\n",
              "      box-shadow: 0px 1px 3px 1px rgba(0, 0, 0, 0.15);\n",
              "      filter: drop-shadow(0px 1px 2px rgba(0, 0, 0, 0.3));\n",
              "      fill: #FFFFFF;\n",
              "    }\n",
              "  </style>\n",
              "\n",
              "    <script>\n",
              "      const buttonEl =\n",
              "        document.querySelector('#df-20233292-4e62-4710-b259-7010c4b3b360 button.colab-df-convert');\n",
              "      buttonEl.style.display =\n",
              "        google.colab.kernel.accessAllowed ? 'block' : 'none';\n",
              "\n",
              "      async function convertToInteractive(key) {\n",
              "        const element = document.querySelector('#df-20233292-4e62-4710-b259-7010c4b3b360');\n",
              "        const dataTable =\n",
              "          await google.colab.kernel.invokeFunction('convertToInteractive',\n",
              "                                                    [key], {});\n",
              "        if (!dataTable) return;\n",
              "\n",
              "        const docLinkHtml = 'Like what you see? Visit the ' +\n",
              "          '<a target=\"_blank\" href=https://colab.research.google.com/notebooks/data_table.ipynb>data table notebook</a>'\n",
              "          + ' to learn more about interactive tables.';\n",
              "        element.innerHTML = '';\n",
              "        dataTable['output_type'] = 'display_data';\n",
              "        await google.colab.output.renderOutput(dataTable, element);\n",
              "        const docLink = document.createElement('div');\n",
              "        docLink.innerHTML = docLinkHtml;\n",
              "        element.appendChild(docLink);\n",
              "      }\n",
              "    </script>\n",
              "  </div>\n",
              "\n",
              "\n",
              "<div id=\"df-742ee2c0-853d-4f2d-8b83-8ec7f15661a2\">\n",
              "  <button class=\"colab-df-quickchart\" onclick=\"quickchart('df-742ee2c0-853d-4f2d-8b83-8ec7f15661a2')\"\n",
              "            title=\"Suggest charts\"\n",
              "            style=\"display:none;\">\n",
              "\n",
              "<svg xmlns=\"http://www.w3.org/2000/svg\" height=\"24px\"viewBox=\"0 0 24 24\"\n",
              "     width=\"24px\">\n",
              "    <g>\n",
              "        <path d=\"M19 3H5c-1.1 0-2 .9-2 2v14c0 1.1.9 2 2 2h14c1.1 0 2-.9 2-2V5c0-1.1-.9-2-2-2zM9 17H7v-7h2v7zm4 0h-2V7h2v10zm4 0h-2v-4h2v4z\"/>\n",
              "    </g>\n",
              "</svg>\n",
              "  </button>\n",
              "\n",
              "<style>\n",
              "  .colab-df-quickchart {\n",
              "      --bg-color: #E8F0FE;\n",
              "      --fill-color: #1967D2;\n",
              "      --hover-bg-color: #E2EBFA;\n",
              "      --hover-fill-color: #174EA6;\n",
              "      --disabled-fill-color: #AAA;\n",
              "      --disabled-bg-color: #DDD;\n",
              "  }\n",
              "\n",
              "  [theme=dark] .colab-df-quickchart {\n",
              "      --bg-color: #3B4455;\n",
              "      --fill-color: #D2E3FC;\n",
              "      --hover-bg-color: #434B5C;\n",
              "      --hover-fill-color: #FFFFFF;\n",
              "      --disabled-bg-color: #3B4455;\n",
              "      --disabled-fill-color: #666;\n",
              "  }\n",
              "\n",
              "  .colab-df-quickchart {\n",
              "    background-color: var(--bg-color);\n",
              "    border: none;\n",
              "    border-radius: 50%;\n",
              "    cursor: pointer;\n",
              "    display: none;\n",
              "    fill: var(--fill-color);\n",
              "    height: 32px;\n",
              "    padding: 0;\n",
              "    width: 32px;\n",
              "  }\n",
              "\n",
              "  .colab-df-quickchart:hover {\n",
              "    background-color: var(--hover-bg-color);\n",
              "    box-shadow: 0 1px 2px rgba(60, 64, 67, 0.3), 0 1px 3px 1px rgba(60, 64, 67, 0.15);\n",
              "    fill: var(--button-hover-fill-color);\n",
              "  }\n",
              "\n",
              "  .colab-df-quickchart-complete:disabled,\n",
              "  .colab-df-quickchart-complete:disabled:hover {\n",
              "    background-color: var(--disabled-bg-color);\n",
              "    fill: var(--disabled-fill-color);\n",
              "    box-shadow: none;\n",
              "  }\n",
              "\n",
              "  .colab-df-spinner {\n",
              "    border: 2px solid var(--fill-color);\n",
              "    border-color: transparent;\n",
              "    border-bottom-color: var(--fill-color);\n",
              "    animation:\n",
              "      spin 1s steps(1) infinite;\n",
              "  }\n",
              "\n",
              "  @keyframes spin {\n",
              "    0% {\n",
              "      border-color: transparent;\n",
              "      border-bottom-color: var(--fill-color);\n",
              "      border-left-color: var(--fill-color);\n",
              "    }\n",
              "    20% {\n",
              "      border-color: transparent;\n",
              "      border-left-color: var(--fill-color);\n",
              "      border-top-color: var(--fill-color);\n",
              "    }\n",
              "    30% {\n",
              "      border-color: transparent;\n",
              "      border-left-color: var(--fill-color);\n",
              "      border-top-color: var(--fill-color);\n",
              "      border-right-color: var(--fill-color);\n",
              "    }\n",
              "    40% {\n",
              "      border-color: transparent;\n",
              "      border-right-color: var(--fill-color);\n",
              "      border-top-color: var(--fill-color);\n",
              "    }\n",
              "    60% {\n",
              "      border-color: transparent;\n",
              "      border-right-color: var(--fill-color);\n",
              "    }\n",
              "    80% {\n",
              "      border-color: transparent;\n",
              "      border-right-color: var(--fill-color);\n",
              "      border-bottom-color: var(--fill-color);\n",
              "    }\n",
              "    90% {\n",
              "      border-color: transparent;\n",
              "      border-bottom-color: var(--fill-color);\n",
              "    }\n",
              "  }\n",
              "</style>\n",
              "\n",
              "  <script>\n",
              "    async function quickchart(key) {\n",
              "      const quickchartButtonEl =\n",
              "        document.querySelector('#' + key + ' button');\n",
              "      quickchartButtonEl.disabled = true;  // To prevent multiple clicks.\n",
              "      quickchartButtonEl.classList.add('colab-df-spinner');\n",
              "      try {\n",
              "        const charts = await google.colab.kernel.invokeFunction(\n",
              "            'suggestCharts', [key], {});\n",
              "      } catch (error) {\n",
              "        console.error('Error during call to suggestCharts:', error);\n",
              "      }\n",
              "      quickchartButtonEl.classList.remove('colab-df-spinner');\n",
              "      quickchartButtonEl.classList.add('colab-df-quickchart-complete');\n",
              "    }\n",
              "    (() => {\n",
              "      let quickchartButtonEl =\n",
              "        document.querySelector('#df-742ee2c0-853d-4f2d-8b83-8ec7f15661a2 button');\n",
              "      quickchartButtonEl.style.display =\n",
              "        google.colab.kernel.accessAllowed ? 'block' : 'none';\n",
              "    })();\n",
              "  </script>\n",
              "</div>\n",
              "\n",
              "    </div>\n",
              "  </div>\n"
            ],
            "application/vnd.google.colaboratory.intrinsic+json": {
              "type": "dataframe"
            }
          },
          "metadata": {},
          "execution_count": 10
        }
      ]
    },
    {
      "cell_type": "markdown",
      "source": [
        "Convert date column datatype  from object to date format"
      ],
      "metadata": {
        "id": "-mtVzIS2GoX0"
      }
    },
    {
      "cell_type": "code",
      "source": [
        "df[\"po sent to vendor date\"]=pd.to_datetime(df[\"po sent to vendor date\"],errors=\"coerce\")\n",
        "df[\"po sent to vendor date\"]=df[\"po sent to vendor date\"].dt.date\n"
      ],
      "metadata": {
        "colab": {
          "base_uri": "https://localhost:8080/"
        },
        "id": "oFE0cpQtXnne",
        "outputId": "c088e9c6-df1a-4042-fdb7-53ac8f80df26"
      },
      "execution_count": 11,
      "outputs": [
        {
          "output_type": "stream",
          "name": "stderr",
          "text": [
            "<ipython-input-11-daf0114e0dfc>:1: UserWarning: Could not infer format, so each element will be parsed individually, falling back to `dateutil`. To ensure parsing is consistent and as-expected, please specify a format.\n",
            "  df[\"po sent to vendor date\"]=pd.to_datetime(df[\"po sent to vendor date\"],errors=\"coerce\")\n"
          ]
        }
      ]
    },
    {
      "cell_type": "markdown",
      "source": [
        "Drop unneccessary column for data analysis"
      ],
      "metadata": {
        "id": "ChqbS_z8G-ns"
      }
    },
    {
      "cell_type": "code",
      "source": [
        "df.drop([\"pq #\"],axis=1,inplace=True)\n",
        "df.drop([\"asn/dn #\"],axis=1,inplace=True)\n",
        "df.drop([\"po / so #\"],axis=1,inplace=True)\n",
        "df.drop(\"po sent to vendor date\",axis=1,inplace=True)\n",
        "df.drop(\"pq first sent to client date\",axis=1,inplace=True)\n",
        "df.drop(\"item description\",axis=1,inplace=True)\n",
        "df.drop(\"delivery recorded date\",axis=1,inplace=True)"
      ],
      "metadata": {
        "id": "8skR9WSNzfkA"
      },
      "execution_count": 12,
      "outputs": []
    },
    {
      "cell_type": "code",
      "source": [
        "df.drop(\"dosage\",axis=1,inplace=True)"
      ],
      "metadata": {
        "id": "JWo_JAVGLbbR"
      },
      "execution_count": 13,
      "outputs": []
    },
    {
      "cell_type": "markdown",
      "source": [
        "Imputing missing entries in 'shipment mode' column with mode of corresponding countries in 'country' column."
      ],
      "metadata": {
        "id": "j-L_ATxjHHJ0"
      }
    },
    {
      "cell_type": "code",
      "source": [
        "missing=df[df[\"shipment mode\"].isna()]\n",
        "country=missing[\"country\"]"
      ],
      "metadata": {
        "id": "4XnbL6aDZuBn"
      },
      "execution_count": 14,
      "outputs": []
    },
    {
      "cell_type": "code",
      "source": [
        "new=df[df[\"country\"]==\"Zambia\"]\n",
        "co=new[\"shipment mode\"]\n",
        "print(co.mode())"
      ],
      "metadata": {
        "id": "IcJHBknJgOpN",
        "colab": {
          "base_uri": "https://localhost:8080/"
        },
        "outputId": "e5023118-6077-4463-e2bc-2baec7b4e8ba"
      },
      "execution_count": 15,
      "outputs": [
        {
          "output_type": "stream",
          "name": "stdout",
          "text": [
            "0    Truck\n",
            "Name: shipment mode, dtype: object\n"
          ]
        }
      ]
    },
    {
      "cell_type": "code",
      "source": [
        "df.loc[(df['country'] == 'South Africa')&(df['shipment mode'].isna()),'shipment mode'] = 'Truck'\n",
        "df.loc[(df[\"country\"]==\"Ethiopia\")&(df[\"shipment mode\"].isna()),\"shipment mode\"]=\"Air\"\n",
        "df.loc[(df[\"country\"]==\"Nigeria\")&(df[\"shipment mode\"].isna()),\"shipment mode\"]=\"Air Charter\"\n",
        "df.loc[(df[\"country\"]==\"Guyana\")&(df[\"shipment mode\"].isna()),\"shipment mode\"]=\"Air\"\n",
        "df.loc[(df[\"country\"]==\"Zambia\")&(df[\"shipment mode\"].isna()),\"shipment mode\"]=\"Truck\"\n",
        "df.loc[(df[\"country\"]==\"Côte d'Ivoire\")&(df[\"shipment mode\"].isna()),\"shipment mode\"]=\"Air\"\n",
        "df.loc[(df[\"country\"]==\"Zimbabwe\")&(df[\"shipment mode\"].isna()),\"shipment mode\"]=\"Truck\"\n",
        "df.loc[(df[\"country\"]==\"Namibia\")&(df[\"shipment mode\"].isna()),\"shipment mode\"]=\"Air\"\n",
        "df.loc[(df[\"country\"]==\"Uganda\")&(df[\"shipment mode\"].isna()),\"shipment mode\"]=\"Air\"\n",
        "df.loc[(df[\"country\"]==\"Tanzania\")&(df[\"shipment mode\"].isna()),\"shipment mode\"]=\"Air\"\n",
        "df.loc[(df[\"country\"]==\"Botswana\")&(df[\"shipment mode\"].isna()),\"shipment mode\"]=\"Air\"\n",
        "df.loc[(df[\"country\"]==\"Haiti\")&(df[\"shipment mode\"].isna()),\"shipment mode\"]=\"Air\""
      ],
      "metadata": {
        "id": "FC9MX1efHp-i"
      },
      "execution_count": 16,
      "outputs": []
    },
    {
      "cell_type": "code",
      "source": [
        "df[\"shipment mode\"].isna().sum()"
      ],
      "metadata": {
        "colab": {
          "base_uri": "https://localhost:8080/"
        },
        "id": "TAqEdclJLqYM",
        "outputId": "8378df42-9339-4d55-a88d-3b9d514987be"
      },
      "execution_count": 17,
      "outputs": [
        {
          "output_type": "execute_result",
          "data": {
            "text/plain": [
              "0"
            ]
          },
          "metadata": {},
          "execution_count": 17
        }
      ]
    },
    {
      "cell_type": "markdown",
      "source": [
        "Imputing missing values in 'line item insurance' column with mean."
      ],
      "metadata": {
        "id": "mxiYhxTOHuKT"
      }
    },
    {
      "cell_type": "code",
      "source": [
        "np.round(df[\"line item insurance (usd)\"].mean(),2)\n",
        "df[\"line item insurance (usd)\"]=df[\"line item insurance (usd)\"].fillna(240.12)"
      ],
      "metadata": {
        "id": "0J-fzjTcSg4a"
      },
      "execution_count": 18,
      "outputs": []
    },
    {
      "cell_type": "markdown",
      "source": [
        "Encoding categorical columns."
      ],
      "metadata": {
        "id": "NqUjLh8xH2kd"
      }
    },
    {
      "cell_type": "code",
      "source": [
        "encoder=LabelEncoder()"
      ],
      "metadata": {
        "id": "lMSNKF-b1uVY"
      },
      "execution_count": 77,
      "outputs": []
    },
    {
      "cell_type": "code",
      "source": [
        "df[\"brand\"]=encoder.fit_transform(df[\"brand\"])"
      ],
      "metadata": {
        "id": "JDqE4-c37dgD"
      },
      "execution_count": 22,
      "outputs": []
    },
    {
      "cell_type": "code",
      "source": [
        "df[\"molecule/test type\"]=encoder.fit_transform(df[\"molecule/test type\"])"
      ],
      "metadata": {
        "id": "TDg7WPSh7gYT"
      },
      "execution_count": 24,
      "outputs": []
    },
    {
      "cell_type": "code",
      "source": [
        "df[\"shipment mode\"]=encoder.fit_transform(df[\"shipment mode\"])"
      ],
      "metadata": {
        "id": "tyNMKASOcQNI"
      },
      "execution_count": 84,
      "outputs": []
    },
    {
      "cell_type": "markdown",
      "source": [
        "Preprocessing 'weight (kilograms)' column"
      ],
      "metadata": {
        "id": "HOrk-EbUJ8Co"
      }
    },
    {
      "cell_type": "code",
      "source": [
        "df[\"weight (kilograms)\"].str.contains(\"See\").sum()\n",
        "df[\"weight (kilograms)\"].str.contains(\"Weight\").sum()"
      ],
      "metadata": {
        "colab": {
          "base_uri": "https://localhost:8080/"
        },
        "id": "wdNviqhe6DeX",
        "outputId": "4481de6a-d5a3-4937-e76b-e28ed9e2fd1c"
      },
      "execution_count": 28,
      "outputs": [
        {
          "output_type": "execute_result",
          "data": {
            "text/plain": [
              "1507"
            ]
          },
          "metadata": {},
          "execution_count": 28
        }
      ]
    },
    {
      "cell_type": "code",
      "source": [
        "df[\"weight (kilograms)\"]=pd.to_numeric(df[\"weight (kilograms)\"],errors=\"coerce\")"
      ],
      "metadata": {
        "id": "B38V5ftt-y6q"
      },
      "execution_count": 29,
      "outputs": []
    },
    {
      "cell_type": "code",
      "source": [
        "df[\"weight (kilograms)\"].isna().sum()\n",
        "df[\"weight (kilograms)\"].fillna(3424.44,inplace=True)"
      ],
      "metadata": {
        "colab": {
          "base_uri": "https://localhost:8080/"
        },
        "id": "sBlichNG_LUb",
        "outputId": "c892a6d8-45c9-47b8-fc80-a6035eda3f40"
      },
      "execution_count": 30,
      "outputs": [
        {
          "output_type": "stream",
          "name": "stderr",
          "text": [
            "<ipython-input-30-379ba34e3184>:2: FutureWarning: A value is trying to be set on a copy of a DataFrame or Series through chained assignment using an inplace method.\n",
            "The behavior will change in pandas 3.0. This inplace method will never work because the intermediate object on which we are setting values always behaves as a copy.\n",
            "\n",
            "For example, when doing 'df[col].method(value, inplace=True)', try using 'df.method({col: value}, inplace=True)' or df[col] = df[col].method(value) instead, to perform the operation inplace on the original object.\n",
            "\n",
            "\n",
            "  df[\"weight (kilograms)\"].fillna(3424.44,inplace=True)\n"
          ]
        }
      ]
    },
    {
      "cell_type": "markdown",
      "source": [
        "Preprocessing 'freight cost (usd)' column"
      ],
      "metadata": {
        "id": "g8qCSbu0ITlB"
      }
    },
    {
      "cell_type": "code",
      "source": [
        "df[\"freight cost (usd)\"]=pd.to_numeric(df[\"freight cost (usd)\"],errors=\"coerce\")"
      ],
      "metadata": {
        "id": "7-dOKk7DC8Ti"
      },
      "execution_count": 31,
      "outputs": []
    },
    {
      "cell_type": "code",
      "source": [
        "df[\"freight cost (usd)\"].isna().sum()"
      ],
      "metadata": {
        "colab": {
          "base_uri": "https://localhost:8080/"
        },
        "id": "Ue0nohsSDDtw",
        "outputId": "43a241eb-8819-49dc-e762-2a50c919aab2"
      },
      "execution_count": 32,
      "outputs": [
        {
          "output_type": "execute_result",
          "data": {
            "text/plain": [
              "4126"
            ]
          },
          "metadata": {},
          "execution_count": 32
        }
      ]
    },
    {
      "cell_type": "code",
      "source": [
        "df[\"freight cost (usd)\"]=df[\"freight cost (usd)\"].fillna(df[\"freight cost (usd)\"].mean())"
      ],
      "metadata": {
        "id": "LW8sF6DgK7Lh"
      },
      "execution_count": 38,
      "outputs": []
    },
    {
      "cell_type": "code",
      "source": [
        "df.columns"
      ],
      "metadata": {
        "colab": {
          "base_uri": "https://localhost:8080/"
        },
        "id": "4a9ni2Rqc6FW",
        "outputId": "247da964-eb98-41c1-ad38-794c031228ce"
      },
      "execution_count": 88,
      "outputs": [
        {
          "output_type": "execute_result",
          "data": {
            "text/plain": [
              "Index(['ID', 'project code', 'country', 'fulfill via', 'vendor inco term',\n",
              "       'shipment mode', 'scheduled delivery date', 'delivered to client date',\n",
              "       'product group', 'sub classification', 'vendor', 'molecule/test type',\n",
              "       'brand', 'dosage form', 'unit of measure (per pack)',\n",
              "       'line item quantity', 'line item value', 'pack price', 'unit price',\n",
              "       'manufacturing site', 'first line designation', 'weight (kilograms)',\n",
              "       'freight cost (usd)', 'line item insurance (usd)'],\n",
              "      dtype='object')"
            ]
          },
          "metadata": {},
          "execution_count": 88
        }
      ]
    },
    {
      "cell_type": "markdown",
      "source": [
        "Visualization"
      ],
      "metadata": {
        "id": "GhGRjZ6AI-eR"
      }
    },
    {
      "cell_type": "markdown",
      "source": [
        "Histogram"
      ],
      "metadata": {
        "id": "SyTZq6XFJHzW"
      }
    },
    {
      "cell_type": "code",
      "source": [
        "plt.hist(df[\"manufacturing site\"],bins=88,edgecolor=\"black\")\n",
        "plt.xticks(rotation=135,size=3)\n",
        "plt.show()"
      ],
      "metadata": {
        "colab": {
          "base_uri": "https://localhost:8080/",
          "height": 525
        },
        "id": "283gByN6G9Ig",
        "outputId": "3be43878-3121-4155-de39-5ea887521dae"
      },
      "execution_count": 40,
      "outputs": [
        {
          "output_type": "display_data",
          "data": {
            "text/plain": [
              "<Figure size 640x480 with 1 Axes>"
            ],
            "image/png": "[encoded data removed]"
          },
          "metadata": {}
        }
      ]
    },
    {
      "cell_type": "markdown",
      "source": [
        "BAR PLOT\n"
      ],
      "metadata": {
        "id": "0eGzLBzG7tYP"
      }
    },
    {
      "cell_type": "code",
      "source": [
        "country=df.groupby(\"country\")[\"line item value\"].sum().sort_values(ascending=False).head(10)\n",
        "sns.barplot(x=country.values,y=country.index)\n",
        "plt.xticks(rotation=135,size=3)\n",
        "plt.ylabel(\"Frequency\")\n",
        "plt.title(\"Top 10 Countries by Total Line Item Values\")\n",
        "plt.show()"
      ],
      "metadata": {
        "colab": {
          "base_uri": "https://localhost:8080/",
          "height": 464
        },
        "id": "MhoclxJ__Rrp",
        "outputId": "9e4508f9-909c-4333-93ea-ab3791a7aa3c"
      },
      "execution_count": 42,
      "outputs": [
        {
          "output_type": "display_data",
          "data": {
            "text/plain": [
              "<Figure size 640x480 with 1 Axes>"
            ],
            "image/png": "[encoded data removed]"
          },
          "metadata": {}
        }
      ]
    },
    {
      "cell_type": "code",
      "source": [
        "c2=df.groupby(\"country\")[\"unit price\"].mean().sort_values(ascending=False).head()\n",
        "sns.barplot(x=country.values,y=country.index)"
      ],
      "metadata": {
        "colab": {
          "base_uri": "https://localhost:8080/",
          "height": 465
        },
        "id": "TjRPp2vhEHxO",
        "outputId": "0041a4b1-d59d-4fc4-d125-ced4e553be1f"
      },
      "execution_count": 43,
      "outputs": [
        {
          "output_type": "execute_result",
          "data": {
            "text/plain": [
              "<Axes: ylabel='country'>"
            ]
          },
          "metadata": {},
          "execution_count": 43
        },
        {
          "output_type": "display_data",
          "data": {
            "text/plain": [
              "<Figure size 640x480 with 1 Axes>"
            ],
            "image/png": "[encoded data removed]"
          },
          "metadata": {}
        }
      ]
    },
    {
      "cell_type": "code",
      "source": [
        "c3=df.groupby(\"country\")[\"freight cost (usd)\"].sum().sort_values(ascending=False).head(10)\n",
        "sns.barplot(x=c3.values,y=c3.index)"
      ],
      "metadata": {
        "id": "YlIZAh18FZ-Q",
        "colab": {
          "base_uri": "https://localhost:8080/",
          "height": 465
        },
        "outputId": "81ae5ea9-cef1-4674-ad3c-236fda4ab80f"
      },
      "execution_count": 89,
      "outputs": [
        {
          "output_type": "execute_result",
          "data": {
            "text/plain": [
              "<Axes: ylabel='country'>"
            ]
          },
          "metadata": {},
          "execution_count": 89
        },
        {
          "output_type": "display_data",
          "data": {
            "text/plain": [
              "<Figure size 640x480 with 1 Axes>"
            ],
            "image/png": "[encoded data removed]"
          },
          "metadata": {}
        }
      ]
    },
    {
      "cell_type": "markdown",
      "source": [
        "Finding outliers in 'unit price' column"
      ],
      "metadata": {
        "id": "Z4faYBRlKGyu"
      }
    },
    {
      "cell_type": "code",
      "source": [
        "Q1=df[\"unit price\"].quantile(0.25)\n",
        "Q3=df[\"unit price\"].quantile(0.75)\n",
        "IQR=Q3-Q1\n",
        "lb=Q1-1.5*IQR\n",
        "ub=Q3+1.5*IQR\n",
        "outliers=df[(df[\"unit price\"]<lb) | (df[\"unit price\"]>ub)]\n",
        "print(outliers)"
      ],
      "metadata": {
        "id": "19mVVZ73IFlg",
        "colab": {
          "base_uri": "https://localhost:8080/"
        },
        "outputId": "429e67e1-0024-4da6-d873-ef94656fbd12"
      },
      "execution_count": 48,
      "outputs": [
        {
          "output_type": "stream",
          "name": "stdout",
          "text": [
            "          ID project code       country  managed by  fulfill via  \\\n",
            "11        61   110-ZM-T01        Zambia           2            0   \n",
            "21        96   102-NG-T01       Nigeria           2            0   \n",
            "26       134   100-HT-T01         Haiti           2            0   \n",
            "31       176   102-NG-T01       Nigeria           2            0   \n",
            "38       361   125-HT-T01         Haiti           2            0   \n",
            "...      ...          ...           ...         ...          ...   \n",
            "6562   82004   102-GY-T30        Guyana           2            0   \n",
            "6569   82062   116-ZA-T30  South Africa           2            0   \n",
            "6760   82461   107-RW-T30        Rwanda           2            1   \n",
            "7058   82856   102-SD-T30         Sudan           2            1   \n",
            "10055  86457   109-TZ-T30      Tanzania           2            1   \n",
            "\n",
            "       vendor inco term shipment mode scheduled delivery date  \\\n",
            "11                    5           Air              2007-01-08   \n",
            "21                    5           Air              2007-06-19   \n",
            "26                    5           Air              2007-08-25   \n",
            "31                    5           Air              2007-10-03   \n",
            "38                    5           Air              2008-02-18   \n",
            "...                 ...           ...                     ...   \n",
            "6562                  5           Air              2012-05-23   \n",
            "6569                  3         Truck              2014-01-13   \n",
            "6760                  7           Air              2012-03-12   \n",
            "7058                  7           Air              2009-11-30   \n",
            "10055                 7           Air              2012-03-30   \n",
            "\n",
            "      delivered to client date product group  ... unit of measure (per pack)  \\\n",
            "11                  2007-01-08          HRDT  ...                         20   \n",
            "21                  2007-06-19          HRDT  ...                         20   \n",
            "26                  2007-08-25          HRDT  ...                        100   \n",
            "31                  2007-10-03          HRDT  ...                         20   \n",
            "38                  2008-02-18          HRDT  ...                        100   \n",
            "...                        ...           ...  ...                        ...   \n",
            "6562                2012-05-23          HRDT  ...                         20   \n",
            "6569                2014-01-13           ARV  ...                         60   \n",
            "6760                2012-03-05          HRDT  ...                         20   \n",
            "7058                2009-11-22          HRDT  ...                         20   \n",
            "10055               2012-03-07          HRDT  ...                         20   \n",
            "\n",
            "       line item quantity  line item value  pack price  unit price  \\\n",
            "11                   2500        100000.00       40.00        2.00   \n",
            "21                   7500        202500.00       27.00        1.35   \n",
            "26                     25          8750.00      350.00        3.50   \n",
            "31                  10000        270000.00       27.00        1.35   \n",
            "38                      2           278.00      139.00        1.39   \n",
            "...                   ...              ...         ...         ...   \n",
            "6562                 1513         48416.00       32.00        1.60   \n",
            "6569                    3           193.74       64.58        1.08   \n",
            "6760                 1000         32000.00       32.00        1.60   \n",
            "7058                 1250         40000.00       32.00        1.60   \n",
            "10055                5000        160000.00       32.00        1.60   \n",
            "\n",
            "                  manufacturing site  first line designation  \\\n",
            "11              Trinity Biotech, Plc                       1   \n",
            "21     Chembio Diagnostics Sys. Inc.                       1   \n",
            "26         Pacific Biotech, Thailand                       1   \n",
            "31     Chembio Diagnostics Sys. Inc.                       1   \n",
            "38              Trinity Biotech, Plc                       1   \n",
            "...                              ...                     ...   \n",
            "6562            Trinity Biotech, Plc                       1   \n",
            "6569       Aurobindo Unit III, India                       0   \n",
            "6760            Trinity Biotech, Plc                       1   \n",
            "7058            Trinity Biotech, Plc                       1   \n",
            "10055           Trinity Biotech, Plc                       1   \n",
            "\n",
            "       weight (kilograms)  freight cost (usd)  line item insurance (usd)  \n",
            "11                 853.00        13569.490000                     240.12  \n",
            "21                2278.00        15893.710000                     240.12  \n",
            "26                  60.00         3097.850000                      14.00  \n",
            "31                3263.00        20885.780000                     432.00  \n",
            "38                3424.44        11103.234819                       0.44  \n",
            "...                   ...                 ...                        ...  \n",
            "6562               410.00         5577.130000                      67.88  \n",
            "6569              3424.44        11103.234819                       0.20  \n",
            "6760               334.00         3494.500000                      44.86  \n",
            "7058              3424.44        11103.234819                      78.40  \n",
            "10055             1578.00         8925.000000                     224.32  \n",
            "\n",
            "[880 rows x 25 columns]\n"
          ]
        }
      ]
    },
    {
      "cell_type": "code",
      "source": [
        "df[\"unit price\"].replace(0,df[\"unit price\"].mean(),inplace=True)"
      ],
      "metadata": {
        "colab": {
          "base_uri": "https://localhost:8080/"
        },
        "id": "J2z3I6S_LH51",
        "outputId": "646368c1-10fb-458c-e6f2-480973233f58"
      },
      "execution_count": 49,
      "outputs": [
        {
          "output_type": "stream",
          "name": "stderr",
          "text": [
            "<ipython-input-49-52a532ce8fd1>:1: FutureWarning: A value is trying to be set on a copy of a DataFrame or Series through chained assignment using an inplace method.\n",
            "The behavior will change in pandas 3.0. This inplace method will never work because the intermediate object on which we are setting values always behaves as a copy.\n",
            "\n",
            "For example, when doing 'df[col].method(value, inplace=True)', try using 'df.method({col: value}, inplace=True)' or df[col] = df[col].method(value) instead, to perform the operation inplace on the original object.\n",
            "\n",
            "\n",
            "  df[\"unit price\"].replace(0,df[\"unit price\"].mean(),inplace=True)\n"
          ]
        }
      ]
    },
    {
      "cell_type": "markdown",
      "source": [
        "Heatmap"
      ],
      "metadata": {
        "id": "J5HpU4v9JPcn"
      }
    },
    {
      "cell_type": "code",
      "source": [
        "cols=df[[\"weight (kilograms)\",\"unit price\"]]\n",
        "sns.heatmap(cols.corr(),annot=True)"
      ],
      "metadata": {
        "id": "fwy9T0lyPYFH",
        "colab": {
          "base_uri": "https://localhost:8080/",
          "height": 452
        },
        "outputId": "b5c03a3d-1ae4-4670-a43b-0e7b9e6956b3"
      },
      "execution_count": 50,
      "outputs": [
        {
          "output_type": "execute_result",
          "data": {
            "text/plain": [
              "<Axes: >"
            ]
          },
          "metadata": {},
          "execution_count": 50
        },
        {
          "output_type": "display_data",
          "data": {
            "text/plain": [
              "<Figure size 640x480 with 2 Axes>"
            ],
            "image/png": "[encoded data removed]"
          },
          "metadata": {}
        }
      ]
    },
    {
      "cell_type": "code",
      "source": [
        "colms=df[[\"weight (kilograms)\",\"freight cost (usd)\"]]\n",
        "df[\"freight cost (usd)\"]=pd.to_numeric(df[\"freight cost (usd)\"],errors=\"coerce\")\n",
        "sns.heatmap(colms.corr(),annot=True)"
      ],
      "metadata": {
        "id": "29uL93YKP7OE",
        "colab": {
          "base_uri": "https://localhost:8080/",
          "height": 452
        },
        "outputId": "d657a291-b1cf-434b-d7cc-46fc83c36050"
      },
      "execution_count": 51,
      "outputs": [
        {
          "output_type": "execute_result",
          "data": {
            "text/plain": [
              "<Axes: >"
            ]
          },
          "metadata": {},
          "execution_count": 51
        },
        {
          "output_type": "display_data",
          "data": {
            "text/plain": [
              "<Figure size 640x480 with 2 Axes>"
            ],
            "image/png": "[encoded data removed]"
          },
          "metadata": {}
        }
      ]
    },
    {
      "cell_type": "code",
      "source": [
        "col1=df[[\"vendor inco term\",\"unit price\",\"freight cost (usd)\"]]\n",
        "sns.heatmap(col1.corr(),annot=True)"
      ],
      "metadata": {
        "id": "BTDE4oenQOh3",
        "colab": {
          "base_uri": "https://localhost:8080/",
          "height": 452
        },
        "outputId": "a68c5511-7a1a-4542-865e-7b2553e591fd"
      },
      "execution_count": 52,
      "outputs": [
        {
          "output_type": "execute_result",
          "data": {
            "text/plain": [
              "<Axes: >"
            ]
          },
          "metadata": {},
          "execution_count": 52
        },
        {
          "output_type": "display_data",
          "data": {
            "text/plain": [
              "<Figure size 640x480 with 2 Axes>"
            ],
            "image/png": "[encoded data removed]"
          },
          "metadata": {}
        }
      ]
    },
    {
      "cell_type": "code",
      "source": [
        "cols3=df[[\"pack price\",\"unit price\"]]\n",
        "sns.heatmap(cols3.corr(),annot=True)"
      ],
      "metadata": {
        "id": "CDpyWK1sSgHC",
        "colab": {
          "base_uri": "https://localhost:8080/",
          "height": 452
        },
        "outputId": "cc8c40ec-799b-4b03-eef0-a28ca5fc6b4f"
      },
      "execution_count": 53,
      "outputs": [
        {
          "output_type": "execute_result",
          "data": {
            "text/plain": [
              "<Axes: >"
            ]
          },
          "metadata": {},
          "execution_count": 53
        },
        {
          "output_type": "display_data",
          "data": {
            "text/plain": [
              "<Figure size 640x480 with 2 Axes>"
            ],
            "image/png": "[encoded data removed]"
          },
          "metadata": {}
        }
      ]
    },
    {
      "cell_type": "code",
      "source": [
        "cols4=df[[\"weight (kilograms)\",\"unit price\",\"brand\"]]\n",
        "sns.heatmap(cols4.corr(),annot=True)"
      ],
      "metadata": {
        "id": "Ex26E_2JXaq_",
        "colab": {
          "base_uri": "https://localhost:8080/",
          "height": 452
        },
        "outputId": "18142fa7-ec71-48b7-c0d2-b84c683c9518"
      },
      "execution_count": 54,
      "outputs": [
        {
          "output_type": "execute_result",
          "data": {
            "text/plain": [
              "<Axes: >"
            ]
          },
          "metadata": {},
          "execution_count": 54
        },
        {
          "output_type": "display_data",
          "data": {
            "text/plain": [
              "<Figure size 640x480 with 2 Axes>"
            ],
            "image/png": "[encoded data removed]"
          },
          "metadata": {}
        }
      ]
    },
    {
      "cell_type": "markdown",
      "source": [
        "Barplot"
      ],
      "metadata": {
        "id": "H8ufu_sjJUD_"
      }
    },
    {
      "cell_type": "code",
      "source": [
        "plt.bar(df[\"country\"],df[\"unit price\"])\n",
        "plt.title(\"Bar Plot of Unit Price of each Country\")\n",
        "plt.xlabel(\"Country\")\n",
        "plt.ylabel(\"Unit Price\")\n",
        "plt.xticks(rotation=135,size=3)\n",
        "plt.show()"
      ],
      "metadata": {
        "colab": {
          "base_uri": "https://localhost:8080/",
          "height": 489
        },
        "id": "BPOlwfNbXRqX",
        "outputId": "a1c65087-f2fa-4e14-f8ee-fab422cf3cb8"
      },
      "execution_count": 55,
      "outputs": [
        {
          "output_type": "display_data",
          "data": {
            "text/plain": [
              "<Figure size 640x480 with 1 Axes>"
            ],
            "image/png": "[encoded data removed]"
          },
          "metadata": {}
        }
      ]
    },
    {
      "cell_type": "markdown",
      "source": [
        "Histogram"
      ],
      "metadata": {
        "id": "bnF1RwJcJWlg"
      }
    },
    {
      "cell_type": "code",
      "source": [
        "sns.histplot(df[\"line item insurance (usd)\"],kde=False,bins=20)"
      ],
      "metadata": {
        "colab": {
          "base_uri": "https://localhost:8080/",
          "height": 466
        },
        "id": "s4meVhQNgMIy",
        "outputId": "4c782dca-09a4-40fe-cec9-b04dab355e8b"
      },
      "execution_count": 57,
      "outputs": [
        {
          "output_type": "execute_result",
          "data": {
            "text/plain": [
              "<Axes: xlabel='line item insurance (usd)', ylabel='Count'>"
            ]
          },
          "metadata": {},
          "execution_count": 57
        },
        {
          "output_type": "display_data",
          "data": {
            "text/plain": [
              "<Figure size 640x480 with 1 Axes>"
            ],
            "image/png": "[encoded data removed]"
          },
          "metadata": {}
        }
      ]
    },
    {
      "cell_type": "markdown",
      "source": [
        "Pie Chart"
      ],
      "metadata": {
        "id": "m8TB4uNzJZsM"
      }
    },
    {
      "cell_type": "code",
      "source": [
        "x=df[\"shipment mode\"].value_counts()\n",
        "plt.pie(x,labels=[\"Air\",\"Truck\",\"Air Charter\",\"Ocean\"],autopct='%1.1f%%')\n",
        "plt.title(\"Pie Chart of Shipment Mode \")\n",
        "plt.show()"
      ],
      "metadata": {
        "colab": {
          "base_uri": "https://localhost:8080/",
          "height": 428
        },
        "id": "T5aN1ykBgtA-",
        "outputId": "2cdb0916-5918-4a47-f7df-6dd10bf5f9e9"
      },
      "execution_count": 58,
      "outputs": [
        {
          "output_type": "display_data",
          "data": {
            "text/plain": [
              "<Figure size 640x480 with 1 Axes>"
            ],
            "image/png": "[encoded data removed]"
          },
          "metadata": {}
        }
      ]
    },
    {
      "cell_type": "code",
      "source": [
        "x=df[\"fulfill via\"].value_counts()\n",
        "plt.pie(x,labels=[\"From RDC\",\"Direct Drop\"],autopct='%1.1f%%')\n",
        "plt.title(\"Pie Chart of Fulfill Via\")\n",
        "plt.show()"
      ],
      "metadata": {
        "colab": {
          "base_uri": "https://localhost:8080/",
          "height": 428
        },
        "id": "jgNkRqrVWtyK",
        "outputId": "f9c67802-3c5a-4153-c65d-1c50bcf4a03b"
      },
      "execution_count": 59,
      "outputs": [
        {
          "output_type": "display_data",
          "data": {
            "text/plain": [
              "<Figure size 640x480 with 1 Axes>"
            ],
            "image/png": "[encoded data removed]"
          },
          "metadata": {}
        }
      ]
    },
    {
      "cell_type": "code",
      "source": [
        "x=df[\"first line designation\"].value_counts()\n",
        "plt.pie(x,labels=[\"True\",\"False\"],autopct=\"%1.1f%%\")\n",
        "plt.title(\"Pie Chart of First Line Designation\")\n",
        "plt.show()"
      ],
      "metadata": {
        "colab": {
          "base_uri": "https://localhost:8080/",
          "height": 428
        },
        "id": "5NAqOsxqim-L",
        "outputId": "eeaac8ed-11c1-400f-bf2a-3eb37c0c40fd"
      },
      "execution_count": 60,
      "outputs": [
        {
          "output_type": "display_data",
          "data": {
            "text/plain": [
              "<Figure size 640x480 with 1 Axes>"
            ],
            "image/png": "[encoded data removed]"
          },
          "metadata": {}
        }
      ]
    },
    {
      "cell_type": "markdown",
      "source": [
        "Bar Plot"
      ],
      "metadata": {
        "id": "iViOmWxAJdup"
      }
    },
    {
      "cell_type": "code",
      "source": [
        "subgroup=df.groupby(\"sub classification\")[\"unit price\"].sum().sort_values(ascending=False)\n",
        "sns.barplot(x=subgroup.index,y=subgroup.values)\n",
        "plt.title(\"Bar Plot of Sub Classification\")\n",
        "plt.xlabel(\"Sub classification of product group\")\n",
        "plt.ylabel(\"Total Unit Price\")\n",
        "plt.xticks(rotation=90)\n",
        "plt.show()"
      ],
      "metadata": {
        "colab": {
          "base_uri": "https://localhost:8080/",
          "height": 586
        },
        "id": "iX6NWXripLkq",
        "outputId": "a6d57581-5d8d-450a-ba58-fce1069008ac"
      },
      "execution_count": 61,
      "outputs": [
        {
          "output_type": "display_data",
          "data": {
            "text/plain": [
              "<Figure size 640x480 with 1 Axes>"
            ],
            "image/png": "[encoded data removed]"
          },
          "metadata": {}
        }
      ]
    },
    {
      "cell_type": "code",
      "source": [
        "group=df.groupby(\"product group\")[\"unit price\"].sum().sort_values(ascending=False)\n",
        "sns.barplot(x=group.index,y=group.values)\n",
        "plt.title(\"Bar Plot of Product Group\")\n",
        "plt.xlabel(\"Product Group\")\n",
        "plt.ylabel(\"Total Unit Price\")\n",
        "plt.xticks(rotation=90)\n",
        "plt.show()"
      ],
      "metadata": {
        "colab": {
          "base_uri": "https://localhost:8080/",
          "height": 499
        },
        "id": "LhhqEVNWmPRF",
        "outputId": "a6978513-f9db-406c-8e6f-5d16eb30ab63"
      },
      "execution_count": 62,
      "outputs": [
        {
          "output_type": "display_data",
          "data": {
            "text/plain": [
              "<Figure size 640x480 with 1 Axes>"
            ],
            "image/png": "[encoded data removed]"
          },
          "metadata": {}
        }
      ]
    },
    {
      "cell_type": "markdown",
      "source": [
        "Heatmap"
      ],
      "metadata": {
        "id": "t_bZMSrSJgp4"
      }
    },
    {
      "cell_type": "code",
      "source": [
        "cols5=df[[\"brand\",\"freight cost (usd)\",\"unit price\"]]\n",
        "sns.heatmap(cols5.corr(),annot=True)"
      ],
      "metadata": {
        "colab": {
          "base_uri": "https://localhost:8080/",
          "height": 452
        },
        "id": "pDtCi-7K1wv9",
        "outputId": "4f9b6a74-37b3-48ec-a8b0-e130ae133e31"
      },
      "execution_count": 63,
      "outputs": [
        {
          "output_type": "execute_result",
          "data": {
            "text/plain": [
              "<Axes: >"
            ]
          },
          "metadata": {},
          "execution_count": 63
        },
        {
          "output_type": "display_data",
          "data": {
            "text/plain": [
              "<Figure size 640x480 with 2 Axes>"
            ],
            "image/png": "[encoded data removed]"
          },
          "metadata": {}
        }
      ]
    },
    {
      "cell_type": "code",
      "source": [
        "df.drop(\"managed by\",axis=1,inplace=True)"
      ],
      "metadata": {
        "id": "HjZD78LrXFgM"
      },
      "execution_count": 67,
      "outputs": []
    },
    {
      "cell_type": "markdown",
      "source": [
        "Regression Tasks\n"
      ],
      "metadata": {
        "id": "nSPmcoarW5CL"
      }
    },
    {
      "cell_type": "code",
      "source": [
        "c=df[[\"weight (kilograms)\",\"shipment mode\",\"brand\",\"molecule/test type\",\"unit of measure (per pack)\",\"line item value\"]]\n",
        "d=df[\"line item insurance (usd)\"]"
      ],
      "metadata": {
        "id": "ajwXEgAwxUMh"
      },
      "execution_count": 90,
      "outputs": []
    },
    {
      "cell_type": "code",
      "source": [
        "c_train,c_test,d_train,d_test=train_test_split(c,d,test_size=0.2,random_state=42)"
      ],
      "metadata": {
        "id": "X3doRhzwx_q2"
      },
      "execution_count": 91,
      "outputs": []
    },
    {
      "cell_type": "markdown",
      "source": [
        "Linear Regression"
      ],
      "metadata": {
        "id": "U-DEA0pgeWId"
      }
    },
    {
      "cell_type": "code",
      "source": [
        "lr_model=LinearRegression()"
      ],
      "metadata": {
        "id": "vZqVFyarg9Yk"
      },
      "execution_count": 92,
      "outputs": []
    },
    {
      "cell_type": "code",
      "source": [
        "lr_fit=lr_model.fit(c_train,d_train)"
      ],
      "metadata": {
        "id": "G34onWnbzUfO"
      },
      "execution_count": 93,
      "outputs": []
    },
    {
      "cell_type": "code",
      "source": [
        "lr_pred=lr_fit.predict(c_test)"
      ],
      "metadata": {
        "id": "70luYCOS0yON"
      },
      "execution_count": 95,
      "outputs": []
    },
    {
      "cell_type": "code",
      "source": [
        "lr2=r2_score(d_test,lr_pred)"
      ],
      "metadata": {
        "id": "MCPGhQWN1I4E"
      },
      "execution_count": 125,
      "outputs": []
    },
    {
      "cell_type": "markdown",
      "source": [
        "Random Forest Regression"
      ],
      "metadata": {
        "id": "GikAm_XXeal0"
      }
    },
    {
      "cell_type": "code",
      "source": [
        "randomreg_model=RandomForestRegressor()"
      ],
      "metadata": {
        "id": "KvPQ0M7evIiQ"
      },
      "execution_count": 94,
      "outputs": []
    },
    {
      "cell_type": "code",
      "source": [
        "rreg_fit=randomreg_model.fit(c_train,d_train)"
      ],
      "metadata": {
        "id": "NN9tfhea029m"
      },
      "execution_count": 98,
      "outputs": []
    },
    {
      "cell_type": "code",
      "source": [
        "rreg_pred=rreg_fit.predict(c_test)"
      ],
      "metadata": {
        "id": "DQCxzkc_vQkU"
      },
      "execution_count": 99,
      "outputs": []
    },
    {
      "cell_type": "code",
      "source": [
        "rr2=r2_score(d_test,rreg_pred)"
      ],
      "metadata": {
        "id": "5WYWHvV4vbdM"
      },
      "execution_count": 126,
      "outputs": []
    },
    {
      "cell_type": "markdown",
      "source": [
        "Since RandomForestRegressor is the best regressor here, we need to find optimizing parameters."
      ],
      "metadata": {
        "id": "pV-r55pYtSlw"
      }
    },
    {
      "cell_type": "markdown",
      "source": [
        "GridSearchCV"
      ],
      "metadata": {
        "id": "QgPHtGpYtmt7"
      }
    },
    {
      "cell_type": "code",
      "source": [
        "param_grid={\n",
        "    'n_estimators':[50,100,200],\n",
        "    'max_depth':[2,4,6],\n",
        "    'max_features':[None,\"sqrt\",\"log2\"]\n",
        "}"
      ],
      "metadata": {
        "id": "15eBNbXcNGUJ"
      },
      "execution_count": 107,
      "outputs": []
    },
    {
      "cell_type": "code",
      "source": [
        "grid_search=GridSearchCV(estimator=randomreg_model,param_grid=param_grid,cv=5)"
      ],
      "metadata": {
        "id": "2FigGKfjNz4N"
      },
      "execution_count": 109,
      "outputs": []
    },
    {
      "cell_type": "code",
      "source": [
        "grid_search_fit=grid_search.fit(c_train,d_train)"
      ],
      "metadata": {
        "id": "3YbFuYzkOC9r"
      },
      "execution_count": 110,
      "outputs": []
    },
    {
      "cell_type": "code",
      "source": [
        "grid_search_fit.best_params_"
      ],
      "metadata": {
        "colab": {
          "base_uri": "https://localhost:8080/"
        },
        "id": "xRb6hgxKOH9o",
        "outputId": "f231cd3d-ddeb-44bb-871c-7c558a28b3f1"
      },
      "execution_count": 111,
      "outputs": [
        {
          "output_type": "execute_result",
          "data": {
            "text/plain": [
              "{'max_depth': 6, 'max_features': None, 'n_estimators': 200}"
            ]
          },
          "metadata": {},
          "execution_count": 111
        }
      ]
    },
    {
      "cell_type": "markdown",
      "source": [
        "Support Vector Regression"
      ],
      "metadata": {
        "id": "m5zHRE3NeQ8k"
      }
    },
    {
      "cell_type": "code",
      "source": [
        "sreg_model=SVR()"
      ],
      "metadata": {
        "id": "wAmwWKGovrTM"
      },
      "execution_count": 112,
      "outputs": []
    },
    {
      "cell_type": "code",
      "source": [
        "svr_fit=sreg_model.fit(c_train,d_train)"
      ],
      "metadata": {
        "id": "O4o8DeeWv01M"
      },
      "execution_count": 113,
      "outputs": []
    },
    {
      "cell_type": "code",
      "source": [
        "svr_pred=svr_fit.predict(c_test)"
      ],
      "metadata": {
        "id": "tKMPU4BIwFKa"
      },
      "execution_count": 114,
      "outputs": []
    },
    {
      "cell_type": "code",
      "source": [
        "sr2=r2_score(d_test,svr_pred)"
      ],
      "metadata": {
        "id": "HAACR3VswKZz"
      },
      "execution_count": 127,
      "outputs": []
    },
    {
      "cell_type": "markdown",
      "source": [
        "KNN Regression\n"
      ],
      "metadata": {
        "id": "1iVRpjwKe9GZ"
      }
    },
    {
      "cell_type": "code",
      "source": [
        "knn_model=KNeighborsRegressor()"
      ],
      "metadata": {
        "id": "vKcUtWxxwqYb"
      },
      "execution_count": 120,
      "outputs": []
    },
    {
      "cell_type": "code",
      "source": [
        "knn_fit=knn_model.fit(c_train,d_train)"
      ],
      "metadata": {
        "id": "7AK5nPcOw3Oq"
      },
      "execution_count": 117,
      "outputs": []
    },
    {
      "cell_type": "code",
      "source": [
        "knn_pred=knn_fit.predict(c_test)"
      ],
      "metadata": {
        "id": "KuPlorBkw_8j"
      },
      "execution_count": 118,
      "outputs": []
    },
    {
      "cell_type": "code",
      "source": [
        "kr2=r2_score(d_test,knn_pred)"
      ],
      "metadata": {
        "id": "0LCD1P8NxFvR"
      },
      "execution_count": 128,
      "outputs": []
    },
    {
      "cell_type": "code",
      "source": [
        "models=pd.DataFrame({\n",
        "    \"Model\":[\"Linear Regression\",\"Random Forest Regression\",\"Support Vector Regression\",\"KNN Regression\"],\n",
        "    \"R2 Score\":[lr2,rr2,sr2,kr2]\n",
        "})"
      ],
      "metadata": {
        "id": "LMoiA36igOow"
      },
      "execution_count": 129,
      "outputs": []
    },
    {
      "cell_type": "code",
      "source": [
        "models"
      ],
      "metadata": {
        "colab": {
          "base_uri": "https://localhost:8080/",
          "height": 174
        },
        "id": "vslnPnHAgVIs",
        "outputId": "b678bd9e-1bf9-4601-8e8c-4beb186119ec"
      },
      "execution_count": 130,
      "outputs": [
        {
          "output_type": "execute_result",
          "data": {
            "text/plain": [
              "                       Model  R2 Score\n",
              "0          Linear Regression  0.914488\n",
              "1   Random Forest Regression  0.937379\n",
              "2  Support Vector Regression  0.488107\n",
              "3             KNN Regression  0.918357"
            ],
            "text/html": [
              "\n",
              "  <div id=\"df-bc65a30e-3349-4daa-be44-c149b22dad46\" class=\"colab-df-container\">\n",
              "    <div>\n",
              "<style scoped>\n",
              "    .dataframe tbody tr th:only-of-type {\n",
              "        vertical-align: middle;\n",
              "    }\n",
              "\n",
              "    .dataframe tbody tr th {\n",
              "        vertical-align: top;\n",
              "    }\n",
              "\n",
              "    .dataframe thead th {\n",
              "        text-align: right;\n",
              "    }\n",
              "</style>\n",
              "<table border=\"1\" class=\"dataframe\">\n",
              "  <thead>\n",
              "    <tr style=\"text-align: right;\">\n",
              "      <th></th>\n",
              "      <th>Model</th>\n",
              "      <th>R2 Score</th>\n",
              "    </tr>\n",
              "  </thead>\n",
              "  <tbody>\n",
              "    <tr>\n",
              "      <th>0</th>\n",
              "      <td>Linear Regression</td>\n",
              "      <td>0.914488</td>\n",
              "    </tr>\n",
              "    <tr>\n",
              "      <th>1</th>\n",
              "      <td>Random Forest Regression</td>\n",
              "      <td>0.937379</td>\n",
              "    </tr>\n",
              "    <tr>\n",
              "      <th>2</th>\n",
              "      <td>Support Vector Regression</td>\n",
              "      <td>0.488107</td>\n",
              "    </tr>\n",
              "    <tr>\n",
              "      <th>3</th>\n",
              "      <td>KNN Regression</td>\n",
              "      <td>0.918357</td>\n",
              "    </tr>\n",
              "  </tbody>\n",
              "</table>\n",
              "</div>\n",
              "    <div class=\"colab-df-buttons\">\n",
              "\n",
              "  <div class=\"colab-df-container\">\n",
              "    <button class=\"colab-df-convert\" onclick=\"convertToInteractive('df-bc65a30e-3349-4daa-be44-c149b22dad46')\"\n",
              "            title=\"Convert this dataframe to an interactive table.\"\n",
              "            style=\"display:none;\">\n",
              "\n",
              "  <svg xmlns=\"http://www.w3.org/2000/svg\" height=\"24px\" viewBox=\"0 -960 960 960\">\n",
              "    <path d=\"M120-120v-720h720v720H120Zm60-500h600v-160H180v160Zm220 220h160v-160H400v160Zm0 220h160v-160H400v160ZM180-400h160v-160H180v160Zm440 0h160v-160H620v160ZM180-180h160v-160H180v160Zm440 0h160v-160H620v160Z\"/>\n",
              "  </svg>\n",
              "    </button>\n",
              "\n",
              "  <style>\n",
              "    .colab-df-container {\n",
              "      display:flex;\n",
              "      gap: 12px;\n",
              "    }\n",
              "\n",
              "    .colab-df-convert {\n",
              "      background-color: #E8F0FE;\n",
              "      border: none;\n",
              "      border-radius: 50%;\n",
              "      cursor: pointer;\n",
              "      display: none;\n",
              "      fill: #1967D2;\n",
              "      height: 32px;\n",
              "      padding: 0 0 0 0;\n",
              "      width: 32px;\n",
              "    }\n",
              "\n",
              "    .colab-df-convert:hover {\n",
              "      background-color: #E2EBFA;\n",
              "      box-shadow: 0px 1px 2px rgba(60, 64, 67, 0.3), 0px 1px 3px 1px rgba(60, 64, 67, 0.15);\n",
              "      fill: #174EA6;\n",
              "    }\n",
              "\n",
              "    .colab-df-buttons div {\n",
              "      margin-bottom: 4px;\n",
              "    }\n",
              "\n",
              "    [theme=dark] .colab-df-convert {\n",
              "      background-color: #3B4455;\n",
              "      fill: #D2E3FC;\n",
              "    }\n",
              "\n",
              "    [theme=dark] .colab-df-convert:hover {\n",
              "      background-color: #434B5C;\n",
              "      box-shadow: 0px 1px 3px 1px rgba(0, 0, 0, 0.15);\n",
              "      filter: drop-shadow(0px 1px 2px rgba(0, 0, 0, 0.3));\n",
              "      fill: #FFFFFF;\n",
              "    }\n",
              "  </style>\n",
              "\n",
              "    <script>\n",
              "      const buttonEl =\n",
              "        document.querySelector('#df-bc65a30e-3349-4daa-be44-c149b22dad46 button.colab-df-convert');\n",
              "      buttonEl.style.display =\n",
              "        google.colab.kernel.accessAllowed ? 'block' : 'none';\n",
              "\n",
              "      async function convertToInteractive(key) {\n",
              "        const element = document.querySelector('#df-bc65a30e-3349-4daa-be44-c149b22dad46');\n",
              "        const dataTable =\n",
              "          await google.colab.kernel.invokeFunction('convertToInteractive',\n",
              "                                                    [key], {});\n",
              "        if (!dataTable) return;\n",
              "\n",
              "        const docLinkHtml = 'Like what you see? Visit the ' +\n",
              "          '<a target=\"_blank\" href=https://colab.research.google.com/notebooks/data_table.ipynb>data table notebook</a>'\n",
              "          + ' to learn more about interactive tables.';\n",
              "        element.innerHTML = '';\n",
              "        dataTable['output_type'] = 'display_data';\n",
              "        await google.colab.output.renderOutput(dataTable, element);\n",
              "        const docLink = document.createElement('div');\n",
              "        docLink.innerHTML = docLinkHtml;\n",
              "        element.appendChild(docLink);\n",
              "      }\n",
              "    </script>\n",
              "  </div>\n",
              "\n",
              "\n",
              "<div id=\"df-2c120332-aae0-4dbf-8274-93f339c3629c\">\n",
              "  <button class=\"colab-df-quickchart\" onclick=\"quickchart('df-2c120332-aae0-4dbf-8274-93f339c3629c')\"\n",
              "            title=\"Suggest charts\"\n",
              "            style=\"display:none;\">\n",
              "\n",
              "<svg xmlns=\"http://www.w3.org/2000/svg\" height=\"24px\"viewBox=\"0 0 24 24\"\n",
              "     width=\"24px\">\n",
              "    <g>\n",
              "        <path d=\"M19 3H5c-1.1 0-2 .9-2 2v14c0 1.1.9 2 2 2h14c1.1 0 2-.9 2-2V5c0-1.1-.9-2-2-2zM9 17H7v-7h2v7zm4 0h-2V7h2v10zm4 0h-2v-4h2v4z\"/>\n",
              "    </g>\n",
              "</svg>\n",
              "  </button>\n",
              "\n",
              "<style>\n",
              "  .colab-df-quickchart {\n",
              "      --bg-color: #E8F0FE;\n",
              "      --fill-color: #1967D2;\n",
              "      --hover-bg-color: #E2EBFA;\n",
              "      --hover-fill-color: #174EA6;\n",
              "      --disabled-fill-color: #AAA;\n",
              "      --disabled-bg-color: #DDD;\n",
              "  }\n",
              "\n",
              "  [theme=dark] .colab-df-quickchart {\n",
              "      --bg-color: #3B4455;\n",
              "      --fill-color: #D2E3FC;\n",
              "      --hover-bg-color: #434B5C;\n",
              "      --hover-fill-color: #FFFFFF;\n",
              "      --disabled-bg-color: #3B4455;\n",
              "      --disabled-fill-color: #666;\n",
              "  }\n",
              "\n",
              "  .colab-df-quickchart {\n",
              "    background-color: var(--bg-color);\n",
              "    border: none;\n",
              "    border-radius: 50%;\n",
              "    cursor: pointer;\n",
              "    display: none;\n",
              "    fill: var(--fill-color);\n",
              "    height: 32px;\n",
              "    padding: 0;\n",
              "    width: 32px;\n",
              "  }\n",
              "\n",
              "  .colab-df-quickchart:hover {\n",
              "    background-color: var(--hover-bg-color);\n",
              "    box-shadow: 0 1px 2px rgba(60, 64, 67, 0.3), 0 1px 3px 1px rgba(60, 64, 67, 0.15);\n",
              "    fill: var(--button-hover-fill-color);\n",
              "  }\n",
              "\n",
              "  .colab-df-quickchart-complete:disabled,\n",
              "  .colab-df-quickchart-complete:disabled:hover {\n",
              "    background-color: var(--disabled-bg-color);\n",
              "    fill: var(--disabled-fill-color);\n",
              "    box-shadow: none;\n",
              "  }\n",
              "\n",
              "  .colab-df-spinner {\n",
              "    border: 2px solid var(--fill-color);\n",
              "    border-color: transparent;\n",
              "    border-bottom-color: var(--fill-color);\n",
              "    animation:\n",
              "      spin 1s steps(1) infinite;\n",
              "  }\n",
              "\n",
              "  @keyframes spin {\n",
              "    0% {\n",
              "      border-color: transparent;\n",
              "      border-bottom-color: var(--fill-color);\n",
              "      border-left-color: var(--fill-color);\n",
              "    }\n",
              "    20% {\n",
              "      border-color: transparent;\n",
              "      border-left-color: var(--fill-color);\n",
              "      border-top-color: var(--fill-color);\n",
              "    }\n",
              "    30% {\n",
              "      border-color: transparent;\n",
              "      border-left-color: var(--fill-color);\n",
              "      border-top-color: var(--fill-color);\n",
              "      border-right-color: var(--fill-color);\n",
              "    }\n",
              "    40% {\n",
              "      border-color: transparent;\n",
              "      border-right-color: var(--fill-color);\n",
              "      border-top-color: var(--fill-color);\n",
              "    }\n",
              "    60% {\n",
              "      border-color: transparent;\n",
              "      border-right-color: var(--fill-color);\n",
              "    }\n",
              "    80% {\n",
              "      border-color: transparent;\n",
              "      border-right-color: var(--fill-color);\n",
              "      border-bottom-color: var(--fill-color);\n",
              "    }\n",
              "    90% {\n",
              "      border-color: transparent;\n",
              "      border-bottom-color: var(--fill-color);\n",
              "    }\n",
              "  }\n",
              "</style>\n",
              "\n",
              "  <script>\n",
              "    async function quickchart(key) {\n",
              "      const quickchartButtonEl =\n",
              "        document.querySelector('#' + key + ' button');\n",
              "      quickchartButtonEl.disabled = true;  // To prevent multiple clicks.\n",
              "      quickchartButtonEl.classList.add('colab-df-spinner');\n",
              "      try {\n",
              "        const charts = await google.colab.kernel.invokeFunction(\n",
              "            'suggestCharts', [key], {});\n",
              "      } catch (error) {\n",
              "        console.error('Error during call to suggestCharts:', error);\n",
              "      }\n",
              "      quickchartButtonEl.classList.remove('colab-df-spinner');\n",
              "      quickchartButtonEl.classList.add('colab-df-quickchart-complete');\n",
              "    }\n",
              "    (() => {\n",
              "      let quickchartButtonEl =\n",
              "        document.querySelector('#df-2c120332-aae0-4dbf-8274-93f339c3629c button');\n",
              "      quickchartButtonEl.style.display =\n",
              "        google.colab.kernel.accessAllowed ? 'block' : 'none';\n",
              "    })();\n",
              "  </script>\n",
              "</div>\n",
              "\n",
              "  <div id=\"id_fd419a09-2a47-4b80-b31b-a9845fda1cc6\">\n",
              "    <style>\n",
              "      .colab-df-generate {\n",
              "        background-color: #E8F0FE;\n",
              "        border: none;\n",
              "        border-radius: 50%;\n",
              "        cursor: pointer;\n",
              "        display: none;\n",
              "        fill: #1967D2;\n",
              "        height: 32px;\n",
              "        padding: 0 0 0 0;\n",
              "        width: 32px;\n",
              "      }\n",
              "\n",
              "      .colab-df-generate:hover {\n",
              "        background-color: #E2EBFA;\n",
              "        box-shadow: 0px 1px 2px rgba(60, 64, 67, 0.3), 0px 1px 3px 1px rgba(60, 64, 67, 0.15);\n",
              "        fill: #174EA6;\n",
              "      }\n",
              "\n",
              "      [theme=dark] .colab-df-generate {\n",
              "        background-color: #3B4455;\n",
              "        fill: #D2E3FC;\n",
              "      }\n",
              "\n",
              "      [theme=dark] .colab-df-generate:hover {\n",
              "        background-color: #434B5C;\n",
              "        box-shadow: 0px 1px 3px 1px rgba(0, 0, 0, 0.15);\n",
              "        filter: drop-shadow(0px 1px 2px rgba(0, 0, 0, 0.3));\n",
              "        fill: #FFFFFF;\n",
              "      }\n",
              "    </style>\n",
              "    <button class=\"colab-df-generate\" onclick=\"generateWithVariable('models')\"\n",
              "            title=\"Generate code using this dataframe.\"\n",
              "            style=\"display:none;\">\n",
              "\n",
              "  <svg xmlns=\"http://www.w3.org/2000/svg\" height=\"24px\"viewBox=\"0 0 24 24\"\n",
              "       width=\"24px\">\n",
              "    <path d=\"M7,19H8.4L18.45,9,17,7.55,7,17.6ZM5,21V16.75L18.45,3.32a2,2,0,0,1,2.83,0l1.4,1.43a1.91,1.91,0,0,1,.58,1.4,1.91,1.91,0,0,1-.58,1.4L9.25,21ZM18.45,9,17,7.55Zm-12,3A5.31,5.31,0,0,0,4.9,8.1,5.31,5.31,0,0,0,1,6.5,5.31,5.31,0,0,0,4.9,4.9,5.31,5.31,0,0,0,6.5,1,5.31,5.31,0,0,0,8.1,4.9,5.31,5.31,0,0,0,12,6.5,5.46,5.46,0,0,0,6.5,12Z\"/>\n",
              "  </svg>\n",
              "    </button>\n",
              "    <script>\n",
              "      (() => {\n",
              "      const buttonEl =\n",
              "        document.querySelector('#id_fd419a09-2a47-4b80-b31b-a9845fda1cc6 button.colab-df-generate');\n",
              "      buttonEl.style.display =\n",
              "        google.colab.kernel.accessAllowed ? 'block' : 'none';\n",
              "\n",
              "      buttonEl.onclick = () => {\n",
              "        google.colab.notebook.generateWithVariable('models');\n",
              "      }\n",
              "      })();\n",
              "    </script>\n",
              "  </div>\n",
              "\n",
              "    </div>\n",
              "  </div>\n"
            ],
            "application/vnd.google.colaboratory.intrinsic+json": {
              "type": "dataframe",
              "variable_name": "models",
              "summary": "{\n  \"name\": \"models\",\n  \"rows\": 4,\n  \"fields\": [\n    {\n      \"column\": \"Model\",\n      \"properties\": {\n        \"dtype\": \"string\",\n        \"num_unique_values\": 4,\n        \"samples\": [\n          \"Random Forest Regression\",\n          \"KNN Regression\",\n          \"Linear Regression\"\n        ],\n        \"semantic_type\": \"\",\n        \"description\": \"\"\n      }\n    },\n    {\n      \"column\": \"R2 Score\",\n      \"properties\": {\n        \"dtype\": \"number\",\n        \"std\": 0.2178802282487573,\n        \"min\": 0.4881071009545027,\n        \"max\": 0.9373786830688755,\n        \"num_unique_values\": 4,\n        \"samples\": [\n          0.9373786830688755,\n          0.9183567331995242,\n          0.9144884625401858\n        ],\n        \"semantic_type\": \"\",\n        \"description\": \"\"\n      }\n    }\n  ]\n}"
            }
          },
          "metadata": {},
          "execution_count": 130
        }
      ]
    },
    {
      "cell_type": "markdown",
      "source": [
        "Conclusion: After evaluating multiple regression models, Random Forest Regression emerged as the best-performing predictor for this dataset, achieving the highest R² score of 0.9373. This indicates that the model explains 93.73% of the variance in shipment pricing, making it a highly effective choice for prediction."
      ],
      "metadata": {
        "id": "v8B7jodKgXRk"
      }
    }
  ]
}